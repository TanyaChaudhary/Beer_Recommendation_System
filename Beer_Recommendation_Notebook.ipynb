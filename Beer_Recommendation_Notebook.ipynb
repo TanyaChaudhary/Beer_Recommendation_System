{
 "cells": [
  {
   "cell_type": "markdown",
   "metadata": {},
   "source": [
    "# Problem Statement\n",
    "You are the sales manager for \"BeerMart\", an online beer store in the United States. You want to build a recommendation system (collaborative) for your store, where customers will be recommended the beer that they are most likely to buy."
   ]
  },
  {
   "cell_type": "markdown",
   "metadata": {},
   "source": [
    "## Data Understanding"
   ]
  },
  {
   "cell_type": "code",
   "execution_count": 1,
   "metadata": {
    "collapsed": true
   },
   "outputs": [],
   "source": [
    "# importing libraries\n",
    "import pandas as pd\n",
    "import numpy as np\n",
    "import matplotlib.pyplot as plt\n",
    "import seaborn as sns"
   ]
  },
  {
   "cell_type": "code",
   "execution_count": 2,
   "metadata": {},
   "outputs": [
    {
     "data": {
      "text/html": [
       "<div>\n",
       "<style>\n",
       "    .dataframe thead tr:only-child th {\n",
       "        text-align: right;\n",
       "    }\n",
       "\n",
       "    .dataframe thead th {\n",
       "        text-align: left;\n",
       "    }\n",
       "\n",
       "    .dataframe tbody tr th {\n",
       "        vertical-align: top;\n",
       "    }\n",
       "</style>\n",
       "<table border=\"1\" class=\"dataframe\">\n",
       "  <thead>\n",
       "    <tr style=\"text-align: right;\">\n",
       "      <th></th>\n",
       "      <th>beer_beerid</th>\n",
       "      <th>review_profilename</th>\n",
       "      <th>review_overall</th>\n",
       "    </tr>\n",
       "  </thead>\n",
       "  <tbody>\n",
       "    <tr>\n",
       "      <th>0</th>\n",
       "      <td>48215</td>\n",
       "      <td>stcules</td>\n",
       "      <td>3.0</td>\n",
       "    </tr>\n",
       "    <tr>\n",
       "      <th>1</th>\n",
       "      <td>52159</td>\n",
       "      <td>oline73</td>\n",
       "      <td>3.0</td>\n",
       "    </tr>\n",
       "    <tr>\n",
       "      <th>2</th>\n",
       "      <td>52159</td>\n",
       "      <td>alpinebryant</td>\n",
       "      <td>3.0</td>\n",
       "    </tr>\n",
       "    <tr>\n",
       "      <th>3</th>\n",
       "      <td>52159</td>\n",
       "      <td>rawthar</td>\n",
       "      <td>4.0</td>\n",
       "    </tr>\n",
       "    <tr>\n",
       "      <th>4</th>\n",
       "      <td>52159</td>\n",
       "      <td>RangerClegg</td>\n",
       "      <td>3.5</td>\n",
       "    </tr>\n",
       "  </tbody>\n",
       "</table>\n",
       "</div>"
      ],
      "text/plain": [
       "   beer_beerid review_profilename  review_overall\n",
       "0        48215            stcules             3.0\n",
       "1        52159            oline73             3.0\n",
       "2        52159       alpinebryant             3.0\n",
       "3        52159            rawthar             4.0\n",
       "4        52159        RangerClegg             3.5"
      ]
     },
     "execution_count": 2,
     "metadata": {},
     "output_type": "execute_result"
    }
   ],
   "source": [
    "# importing data\n",
    "df = pd.read_csv('beer_data.csv')\n",
    "df.head()"
   ]
  },
  {
   "cell_type": "code",
   "execution_count": 3,
   "metadata": {},
   "outputs": [
    {
     "data": {
      "text/plain": [
       "(475984, 3)"
      ]
     },
     "execution_count": 3,
     "metadata": {},
     "output_type": "execute_result"
    }
   ],
   "source": [
    "# shape of the data frame\n",
    "df.shape"
   ]
  },
  {
   "cell_type": "markdown",
   "metadata": {},
   "source": [
    "## Data preparation"
   ]
  },
  {
   "cell_type": "markdown",
   "metadata": {},
   "source": [
    "### Missing values present in the data set"
   ]
  },
  {
   "cell_type": "code",
   "execution_count": 4,
   "metadata": {},
   "outputs": [
    {
     "data": {
      "text/plain": [
       "beer_beerid             0\n",
       "review_profilename    100\n",
       "review_overall          0\n",
       "dtype: int64"
      ]
     },
     "execution_count": 4,
     "metadata": {},
     "output_type": "execute_result"
    }
   ],
   "source": [
    "# null values present in the data set\n",
    "df.isnull().sum()"
   ]
  },
  {
   "cell_type": "markdown",
   "metadata": {},
   "source": [
    "#### There are around 100 missing values in the review_profilename column"
   ]
  },
  {
   "cell_type": "markdown",
   "metadata": {},
   "source": [
    "### Remove the missing values"
   ]
  },
  {
   "cell_type": "code",
   "execution_count": 5,
   "metadata": {},
   "outputs": [
    {
     "data": {
      "text/plain": [
       "beer_beerid           0\n",
       "review_profilename    0\n",
       "review_overall        0\n",
       "dtype: int64"
      ]
     },
     "execution_count": 5,
     "metadata": {},
     "output_type": "execute_result"
    }
   ],
   "source": [
    "# dropping the missing rows\n",
    "df = df.dropna()\n",
    "df.isnull().sum()"
   ]
  },
  {
   "cell_type": "code",
   "execution_count": 6,
   "metadata": {},
   "outputs": [
    {
     "data": {
      "text/plain": [
       "(475884, 3)"
      ]
     },
     "execution_count": 6,
     "metadata": {},
     "output_type": "execute_result"
    }
   ],
   "source": [
    "# data frame after removing the missing rows\n",
    "df.shape"
   ]
  },
  {
   "cell_type": "markdown",
   "metadata": {},
   "source": [
    "### Checking duplicate rows"
   ]
  },
  {
   "cell_type": "code",
   "execution_count": 7,
   "metadata": {},
   "outputs": [
    {
     "data": {
      "text/html": [
       "<div>\n",
       "<style>\n",
       "    .dataframe thead tr:only-child th {\n",
       "        text-align: right;\n",
       "    }\n",
       "\n",
       "    .dataframe thead th {\n",
       "        text-align: left;\n",
       "    }\n",
       "\n",
       "    .dataframe tbody tr th {\n",
       "        vertical-align: top;\n",
       "    }\n",
       "</style>\n",
       "<table border=\"1\" class=\"dataframe\">\n",
       "  <thead>\n",
       "    <tr style=\"text-align: right;\">\n",
       "      <th></th>\n",
       "      <th>beer_beerid</th>\n",
       "      <th>review_profilename</th>\n",
       "      <th>review_overall</th>\n",
       "    </tr>\n",
       "  </thead>\n",
       "  <tbody>\n",
       "    <tr>\n",
       "      <th>1248</th>\n",
       "      <td>52211</td>\n",
       "      <td>AleWatcher</td>\n",
       "      <td>3.5</td>\n",
       "    </tr>\n",
       "    <tr>\n",
       "      <th>2301</th>\n",
       "      <td>73647</td>\n",
       "      <td>barleywinefiend</td>\n",
       "      <td>4.5</td>\n",
       "    </tr>\n",
       "    <tr>\n",
       "      <th>2349</th>\n",
       "      <td>14243</td>\n",
       "      <td>northyorksammy</td>\n",
       "      <td>2.5</td>\n",
       "    </tr>\n",
       "    <tr>\n",
       "      <th>2608</th>\n",
       "      <td>1122</td>\n",
       "      <td>Slatetank</td>\n",
       "      <td>4.0</td>\n",
       "    </tr>\n",
       "    <tr>\n",
       "      <th>2874</th>\n",
       "      <td>1121</td>\n",
       "      <td>kenito799</td>\n",
       "      <td>4.5</td>\n",
       "    </tr>\n",
       "  </tbody>\n",
       "</table>\n",
       "</div>"
      ],
      "text/plain": [
       "      beer_beerid review_profilename  review_overall\n",
       "1248        52211         AleWatcher             3.5\n",
       "2301        73647    barleywinefiend             4.5\n",
       "2349        14243     northyorksammy             2.5\n",
       "2608         1122          Slatetank             4.0\n",
       "2874         1121          kenito799             4.5"
      ]
     },
     "execution_count": 7,
     "metadata": {},
     "output_type": "execute_result"
    }
   ],
   "source": [
    "# duplicate rows\n",
    "duplicate_rows = df[df[['beer_beerid', 'review_profilename']].duplicated() == True]\n",
    "duplicate_rows.head()"
   ]
  },
  {
   "cell_type": "code",
   "execution_count": 8,
   "metadata": {},
   "outputs": [
    {
     "data": {
      "text/plain": [
       "(1422, 3)"
      ]
     },
     "execution_count": 8,
     "metadata": {},
     "output_type": "execute_result"
    }
   ],
   "source": [
    "# shape of duplicate rows\n",
    "duplicate_rows.shape"
   ]
  },
  {
   "cell_type": "markdown",
   "metadata": {},
   "source": [
    "#### 1422 rows have duplicate values"
   ]
  },
  {
   "cell_type": "markdown",
   "metadata": {},
   "source": [
    "### Removing duplicate rows"
   ]
  },
  {
   "cell_type": "code",
   "execution_count": 9,
   "metadata": {},
   "outputs": [
    {
     "data": {
      "text/plain": [
       "(474462, 3)"
      ]
     },
     "execution_count": 9,
     "metadata": {},
     "output_type": "execute_result"
    }
   ],
   "source": [
    "# removing duplicate rows\n",
    "df = df.drop_duplicates(subset=['beer_beerid','review_profilename'], keep = 'first')\n",
    "df.shape"
   ]
  },
  {
   "cell_type": "markdown",
   "metadata": {},
   "source": [
    "## Data Exploration"
   ]
  },
  {
   "cell_type": "markdown",
   "metadata": {},
   "source": [
    "### Counting and plotting the number of ratings given to each beer"
   ]
  },
  {
   "cell_type": "code",
   "execution_count": 10,
   "metadata": {},
   "outputs": [
    {
     "data": {
      "text/plain": [
       "2093     977\n",
       "412      966\n",
       "1904     902\n",
       "1093     840\n",
       "92       812\n",
       "4083     798\n",
       "276      788\n",
       "7971     778\n",
       "88       755\n",
       "1013     750\n",
       "34       743\n",
       "17112    741\n",
       "11757    721\n",
       "2671     712\n",
       "695      704\n",
       "6108     703\n",
       "1005     703\n",
       "680      702\n",
       "754      690\n",
       "1160     685\n",
       "104      684\n",
       "1708     681\n",
       "645      678\n",
       "355      674\n",
       "131      655\n",
       "73       651\n",
       "571      616\n",
       "30420    612\n",
       "2512     603\n",
       "731      588\n",
       "        ... \n",
       "37242      1\n",
       "45438      1\n",
       "47487      1\n",
       "66120      1\n",
       "76365      1\n",
       "17122      1\n",
       "27237      1\n",
       "23265      1\n",
       "72011      1\n",
       "39035      1\n",
       "44914      1\n",
       "63607      1\n",
       "38773      1\n",
       "65400      1\n",
       "61306      1\n",
       "59259      1\n",
       "57212      1\n",
       "55165      1\n",
       "13036      1\n",
       "73804      1\n",
       "746        1\n",
       "22627      1\n",
       "30823      1\n",
       "25318      1\n",
       "6251       1\n",
       "31461      1\n",
       "53362      1\n",
       "57460      1\n",
       "42666      1\n",
       "69794      1\n",
       "Name: beer_beerid, Length: 40304, dtype: int64"
      ]
     },
     "execution_count": 10,
     "metadata": {},
     "output_type": "execute_result"
    }
   ],
   "source": [
    "# number of rating given to each beer\n",
    "df['beer_beerid'].value_counts()"
   ]
  },
  {
   "cell_type": "code",
   "execution_count": 11,
   "metadata": {},
   "outputs": [
    {
     "data": {
      "text/html": [
       "<div>\n",
       "<style>\n",
       "    .dataframe thead tr:only-child th {\n",
       "        text-align: right;\n",
       "    }\n",
       "\n",
       "    .dataframe thead th {\n",
       "        text-align: left;\n",
       "    }\n",
       "\n",
       "    .dataframe tbody tr th {\n",
       "        vertical-align: top;\n",
       "    }\n",
       "</style>\n",
       "<table border=\"1\" class=\"dataframe\">\n",
       "  <thead>\n",
       "    <tr style=\"text-align: right;\">\n",
       "      <th></th>\n",
       "      <th>beer_beerid</th>\n",
       "      <th>review_profilename</th>\n",
       "      <th>review_overall</th>\n",
       "    </tr>\n",
       "  </thead>\n",
       "  <tbody>\n",
       "    <tr>\n",
       "      <th>12</th>\n",
       "      <td>436</td>\n",
       "      <td>Brent</td>\n",
       "      <td>3.0</td>\n",
       "    </tr>\n",
       "    <tr>\n",
       "      <th>18</th>\n",
       "      <td>25414</td>\n",
       "      <td>NJpadreFan</td>\n",
       "      <td>4.0</td>\n",
       "    </tr>\n",
       "    <tr>\n",
       "      <th>19</th>\n",
       "      <td>25414</td>\n",
       "      <td>vacax</td>\n",
       "      <td>2.5</td>\n",
       "    </tr>\n",
       "    <tr>\n",
       "      <th>20</th>\n",
       "      <td>25414</td>\n",
       "      <td>mikesgroove</td>\n",
       "      <td>4.0</td>\n",
       "    </tr>\n",
       "    <tr>\n",
       "      <th>21</th>\n",
       "      <td>25414</td>\n",
       "      <td>hdofu</td>\n",
       "      <td>4.0</td>\n",
       "    </tr>\n",
       "  </tbody>\n",
       "</table>\n",
       "</div>"
      ],
      "text/plain": [
       "    beer_beerid review_profilename  review_overall\n",
       "12          436              Brent             3.0\n",
       "18        25414         NJpadreFan             4.0\n",
       "19        25414              vacax             2.5\n",
       "20        25414        mikesgroove             4.0\n",
       "21        25414              hdofu             4.0"
      ]
     },
     "execution_count": 11,
     "metadata": {},
     "output_type": "execute_result"
    }
   ],
   "source": [
    "# removing the beer if the count is less than 30\n",
    "df1 = df[df.groupby('beer_beerid')['beer_beerid'].transform('size') > 30]\n",
    "df1.head()"
   ]
  },
  {
   "cell_type": "code",
   "execution_count": 12,
   "metadata": {},
   "outputs": [
    {
     "name": "stdout",
     "output_type": "stream",
     "text": [
      "Higher number rating given to the beer:\n",
      "2093    977\n",
      "412     966\n",
      "1904    902\n",
      "1093    840\n",
      "92      812\n",
      "Name: beer_beerid, dtype: int64\n",
      "Lower number of rating given to the beer:\n",
      "49215    31\n",
      "7467     31\n",
      "38101    31\n",
      "12993    31\n",
      "37294    31\n",
      "Name: beer_beerid, dtype: int64\n"
     ]
    }
   ],
   "source": [
    "# Higher count of rating given to the beer\n",
    "print('Higher number rating given to the beer:')\n",
    "print(df1['beer_beerid'].value_counts().head())\n",
    "\n",
    "# Lower count of rating given to the beer\n",
    "print('Lower number of rating given to the beer:')\n",
    "print(df1['beer_beerid'].value_counts().tail())"
   ]
  },
  {
   "cell_type": "code",
   "execution_count": 13,
   "metadata": {},
   "outputs": [
    {
     "data": {
      "text/plain": [
       "(334582, 3)"
      ]
     },
     "execution_count": 13,
     "metadata": {},
     "output_type": "execute_result"
    }
   ],
   "source": [
    "# shape of the final cleaned dataframe\n",
    "df1.shape"
   ]
  },
  {
   "cell_type": "markdown",
   "metadata": {},
   "source": [
    "#### Successfully removed the beers having very less count of rating by the customer"
   ]
  },
  {
   "cell_type": "markdown",
   "metadata": {},
   "source": [
    "###  Unique values of ratings"
   ]
  },
  {
   "cell_type": "code",
   "execution_count": 14,
   "metadata": {},
   "outputs": [
    {
     "data": {
      "image/png": "[encoded data removed]",
      "text/plain": [
       "<matplotlib.figure.Figure at 0x20c5686f470>"
      ]
     },
     "metadata": {},
     "output_type": "display_data"
    }
   ],
   "source": [
    "# rating and their counts in the data frame\n",
    "pd.value_counts(df1['review_overall']).plot.bar()\n",
    "plt.xlabel('ratings')\n",
    "plt.ylabel('counts')\n",
    "plt.show()"
   ]
  },
  {
   "cell_type": "markdown",
   "metadata": {},
   "source": [
    "##### inference:\n",
    "- most of the beers are given 4.0 rating"
   ]
  },
  {
   "cell_type": "markdown",
   "metadata": {},
   "source": [
    "### Average beer ratings"
   ]
  },
  {
   "cell_type": "code",
   "execution_count": 15,
   "metadata": {},
   "outputs": [
    {
     "data": {
      "text/html": [
       "<div>\n",
       "<style>\n",
       "    .dataframe thead tr:only-child th {\n",
       "        text-align: right;\n",
       "    }\n",
       "\n",
       "    .dataframe thead th {\n",
       "        text-align: left;\n",
       "    }\n",
       "\n",
       "    .dataframe tbody tr th {\n",
       "        vertical-align: top;\n",
       "    }\n",
       "</style>\n",
       "<table border=\"1\" class=\"dataframe\">\n",
       "  <thead>\n",
       "    <tr style=\"text-align: right;\">\n",
       "      <th></th>\n",
       "      <th>beer_beerid</th>\n",
       "      <th>review_overall</th>\n",
       "    </tr>\n",
       "  </thead>\n",
       "  <tbody>\n",
       "    <tr>\n",
       "      <th>0</th>\n",
       "      <td>5</td>\n",
       "      <td>3.55</td>\n",
       "    </tr>\n",
       "    <tr>\n",
       "      <th>1</th>\n",
       "      <td>6</td>\n",
       "      <td>3.71</td>\n",
       "    </tr>\n",
       "    <tr>\n",
       "      <th>2</th>\n",
       "      <td>7</td>\n",
       "      <td>3.32</td>\n",
       "    </tr>\n",
       "    <tr>\n",
       "      <th>3</th>\n",
       "      <td>9</td>\n",
       "      <td>3.38</td>\n",
       "    </tr>\n",
       "    <tr>\n",
       "      <th>4</th>\n",
       "      <td>10</td>\n",
       "      <td>3.88</td>\n",
       "    </tr>\n",
       "  </tbody>\n",
       "</table>\n",
       "</div>"
      ],
      "text/plain": [
       "   beer_beerid  review_overall\n",
       "0            5            3.55\n",
       "1            6            3.71\n",
       "2            7            3.32\n",
       "3            9            3.38\n",
       "4           10            3.88"
      ]
     },
     "execution_count": 15,
     "metadata": {},
     "output_type": "execute_result"
    }
   ],
   "source": [
    "# Average rating given to every beer\n",
    "avg_beer_rating = pd.DataFrame(df1.groupby('beer_beerid')['review_overall'].mean())\n",
    "avg_beer_rating = avg_beer_rating.reset_index()\n",
    "avg_beer_rating['review_overall'] = round(avg_beer_rating['review_overall'],2)\n",
    "avg_beer_rating.head()"
   ]
  },
  {
   "cell_type": "code",
   "execution_count": 16,
   "metadata": {},
   "outputs": [
    {
     "data": {
      "text/plain": [
       "(3057, 2)"
      ]
     },
     "execution_count": 16,
     "metadata": {},
     "output_type": "execute_result"
    }
   ],
   "source": [
    "# Number of unique beers\n",
    "avg_beer_rating.shape"
   ]
  },
  {
   "cell_type": "markdown",
   "metadata": {},
   "source": [
    "##### There are 3059 different kind of beers in the data frame"
   ]
  },
  {
   "cell_type": "code",
   "execution_count": 17,
   "metadata": {},
   "outputs": [
    {
     "data": {
      "text/html": [
       "<div>\n",
       "<style>\n",
       "    .dataframe thead tr:only-child th {\n",
       "        text-align: right;\n",
       "    }\n",
       "\n",
       "    .dataframe thead th {\n",
       "        text-align: left;\n",
       "    }\n",
       "\n",
       "    .dataframe tbody tr th {\n",
       "        vertical-align: top;\n",
       "    }\n",
       "</style>\n",
       "<table border=\"1\" class=\"dataframe\">\n",
       "  <thead>\n",
       "    <tr style=\"text-align: right;\">\n",
       "      <th></th>\n",
       "      <th>beer_beerid</th>\n",
       "      <th>review_overall</th>\n",
       "    </tr>\n",
       "  </thead>\n",
       "  <tbody>\n",
       "    <tr>\n",
       "      <th>781</th>\n",
       "      <td>2213</td>\n",
       "      <td>1.43</td>\n",
       "    </tr>\n",
       "    <tr>\n",
       "      <th>2185</th>\n",
       "      <td>37389</td>\n",
       "      <td>1.70</td>\n",
       "    </tr>\n",
       "    <tr>\n",
       "      <th>1636</th>\n",
       "      <td>20638</td>\n",
       "      <td>1.83</td>\n",
       "    </tr>\n",
       "    <tr>\n",
       "      <th>117</th>\n",
       "      <td>233</td>\n",
       "      <td>1.88</td>\n",
       "    </tr>\n",
       "    <tr>\n",
       "      <th>2231</th>\n",
       "      <td>38763</td>\n",
       "      <td>1.88</td>\n",
       "    </tr>\n",
       "  </tbody>\n",
       "</table>\n",
       "</div>"
      ],
      "text/plain": [
       "      beer_beerid  review_overall\n",
       "781          2213            1.43\n",
       "2185        37389            1.70\n",
       "1636        20638            1.83\n",
       "117           233            1.88\n",
       "2231        38763            1.88"
      ]
     },
     "execution_count": 17,
     "metadata": {},
     "output_type": "execute_result"
    }
   ],
   "source": [
    "# average rating of the every beer\n",
    "avg_beer_rating = avg_beer_rating.sort_values('review_overall')\n",
    "avg_beer_rating.head()"
   ]
  },
  {
   "cell_type": "code",
   "execution_count": 18,
   "metadata": {},
   "outputs": [
    {
     "data": {
      "text/html": [
       "<div>\n",
       "<style>\n",
       "    .dataframe thead tr:only-child th {\n",
       "        text-align: right;\n",
       "    }\n",
       "\n",
       "    .dataframe thead th {\n",
       "        text-align: left;\n",
       "    }\n",
       "\n",
       "    .dataframe tbody tr th {\n",
       "        vertical-align: top;\n",
       "    }\n",
       "</style>\n",
       "<table border=\"1\" class=\"dataframe\">\n",
       "  <thead>\n",
       "    <tr style=\"text-align: right;\">\n",
       "      <th></th>\n",
       "      <th>beer_beerid</th>\n",
       "      <th>review_overall</th>\n",
       "    </tr>\n",
       "  </thead>\n",
       "  <tbody>\n",
       "    <tr>\n",
       "      <th>1314</th>\n",
       "      <td>7971</td>\n",
       "      <td>4.60</td>\n",
       "    </tr>\n",
       "    <tr>\n",
       "      <th>1680</th>\n",
       "      <td>21690</td>\n",
       "      <td>4.61</td>\n",
       "    </tr>\n",
       "    <tr>\n",
       "      <th>595</th>\n",
       "      <td>1545</td>\n",
       "      <td>4.62</td>\n",
       "    </tr>\n",
       "    <tr>\n",
       "      <th>2359</th>\n",
       "      <td>41928</td>\n",
       "      <td>4.63</td>\n",
       "    </tr>\n",
       "    <tr>\n",
       "      <th>1541</th>\n",
       "      <td>16814</td>\n",
       "      <td>4.65</td>\n",
       "    </tr>\n",
       "  </tbody>\n",
       "</table>\n",
       "</div>"
      ],
      "text/plain": [
       "      beer_beerid  review_overall\n",
       "1314         7971            4.60\n",
       "1680        21690            4.61\n",
       "595          1545            4.62\n",
       "2359        41928            4.63\n",
       "1541        16814            4.65"
      ]
     },
     "execution_count": 18,
     "metadata": {},
     "output_type": "execute_result"
    }
   ],
   "source": [
    "# average rating of the beer\n",
    "avg_beer_rating.tail()"
   ]
  },
  {
   "cell_type": "markdown",
   "metadata": {},
   "source": [
    "###### inferences:\n",
    "- beerId 2213 has given lowest average rating\n",
    "- beerId 16814 has given highest average rating"
   ]
  },
  {
   "cell_type": "code",
   "execution_count": 19,
   "metadata": {},
   "outputs": [
    {
     "data": {
      "image/png": "[encoded data removed]",
      "text/plain": [
       "<matplotlib.figure.Figure at 0x20c5688ff98>"
      ]
     },
     "metadata": {},
     "output_type": "display_data"
    }
   ],
   "source": [
    "# Ploting the average beer rating\n",
    "avg_beer_rating.plot(x='beer_beerid', y='review_overall', kind = 'hist')\n",
    "plt.show()"
   ]
  },
  {
   "cell_type": "markdown",
   "metadata": {},
   "source": [
    "#### Mostly the average rating is between 3.5 to 4.0"
   ]
  },
  {
   "cell_type": "markdown",
   "metadata": {},
   "source": [
    "### Average user ratings"
   ]
  },
  {
   "cell_type": "code",
   "execution_count": 20,
   "metadata": {},
   "outputs": [
    {
     "data": {
      "text/html": [
       "<div>\n",
       "<style>\n",
       "    .dataframe thead tr:only-child th {\n",
       "        text-align: right;\n",
       "    }\n",
       "\n",
       "    .dataframe thead th {\n",
       "        text-align: left;\n",
       "    }\n",
       "\n",
       "    .dataframe tbody tr th {\n",
       "        vertical-align: top;\n",
       "    }\n",
       "</style>\n",
       "<table border=\"1\" class=\"dataframe\">\n",
       "  <thead>\n",
       "    <tr style=\"text-align: right;\">\n",
       "      <th></th>\n",
       "      <th>review_profilename</th>\n",
       "      <th>review_overall</th>\n",
       "    </tr>\n",
       "  </thead>\n",
       "  <tbody>\n",
       "    <tr>\n",
       "      <th>0</th>\n",
       "      <td>0110x011</td>\n",
       "      <td>4.33</td>\n",
       "    </tr>\n",
       "    <tr>\n",
       "      <th>1</th>\n",
       "      <td>01Ryan10</td>\n",
       "      <td>5.00</td>\n",
       "    </tr>\n",
       "    <tr>\n",
       "      <th>2</th>\n",
       "      <td>04101Brewer</td>\n",
       "      <td>4.00</td>\n",
       "    </tr>\n",
       "    <tr>\n",
       "      <th>3</th>\n",
       "      <td>05Harley</td>\n",
       "      <td>4.14</td>\n",
       "    </tr>\n",
       "    <tr>\n",
       "      <th>4</th>\n",
       "      <td>0beerguy0</td>\n",
       "      <td>4.17</td>\n",
       "    </tr>\n",
       "  </tbody>\n",
       "</table>\n",
       "</div>"
      ],
      "text/plain": [
       "  review_profilename  review_overall\n",
       "0           0110x011            4.33\n",
       "1           01Ryan10            5.00\n",
       "2        04101Brewer            4.00\n",
       "3           05Harley            4.14\n",
       "4          0beerguy0            4.17"
      ]
     },
     "execution_count": 20,
     "metadata": {},
     "output_type": "execute_result"
    }
   ],
   "source": [
    "# Average rating given by each user\n",
    "avg_user_rating = pd.DataFrame(df1.groupby('review_profilename')['review_overall'].mean())\n",
    "avg_user_rating = avg_user_rating.reset_index()\n",
    "avg_user_rating['review_overall'] = round(avg_user_rating['review_overall'],2)\n",
    "avg_user_rating.head()"
   ]
  },
  {
   "cell_type": "code",
   "execution_count": 21,
   "metadata": {},
   "outputs": [
    {
     "data": {
      "text/plain": [
       "(20182, 2)"
      ]
     },
     "execution_count": 21,
     "metadata": {},
     "output_type": "execute_result"
    }
   ],
   "source": [
    "# Number of unique users\n",
    "avg_user_rating.shape"
   ]
  },
  {
   "cell_type": "markdown",
   "metadata": {},
   "source": [
    "##### There are 20182 unique users who has given the rating"
   ]
  },
  {
   "cell_type": "code",
   "execution_count": 22,
   "metadata": {},
   "outputs": [
    {
     "data": {
      "text/html": [
       "<div>\n",
       "<style>\n",
       "    .dataframe thead tr:only-child th {\n",
       "        text-align: right;\n",
       "    }\n",
       "\n",
       "    .dataframe thead th {\n",
       "        text-align: left;\n",
       "    }\n",
       "\n",
       "    .dataframe tbody tr th {\n",
       "        vertical-align: top;\n",
       "    }\n",
       "</style>\n",
       "<table border=\"1\" class=\"dataframe\">\n",
       "  <thead>\n",
       "    <tr style=\"text-align: right;\">\n",
       "      <th></th>\n",
       "      <th>review_profilename</th>\n",
       "      <th>review_overall</th>\n",
       "    </tr>\n",
       "  </thead>\n",
       "  <tbody>\n",
       "    <tr>\n",
       "      <th>16057</th>\n",
       "      <td>myhair</td>\n",
       "      <td>1.0</td>\n",
       "    </tr>\n",
       "    <tr>\n",
       "      <th>11500</th>\n",
       "      <td>domjwl</td>\n",
       "      <td>1.0</td>\n",
       "    </tr>\n",
       "    <tr>\n",
       "      <th>13212</th>\n",
       "      <td>ifij775</td>\n",
       "      <td>1.0</td>\n",
       "    </tr>\n",
       "    <tr>\n",
       "      <th>13217</th>\n",
       "      <td>ifurlong</td>\n",
       "      <td>1.0</td>\n",
       "    </tr>\n",
       "    <tr>\n",
       "      <th>11903</th>\n",
       "      <td>elbowone</td>\n",
       "      <td>1.0</td>\n",
       "    </tr>\n",
       "  </tbody>\n",
       "</table>\n",
       "</div>"
      ],
      "text/plain": [
       "      review_profilename  review_overall\n",
       "16057             myhair             1.0\n",
       "11500             domjwl             1.0\n",
       "13212            ifij775             1.0\n",
       "13217           ifurlong             1.0\n",
       "11903           elbowone             1.0"
      ]
     },
     "execution_count": 22,
     "metadata": {},
     "output_type": "execute_result"
    }
   ],
   "source": [
    "# Users who have given least rating\n",
    "avg_user_rating = avg_user_rating.sort_values('review_overall')\n",
    "avg_user_rating.head()"
   ]
  },
  {
   "cell_type": "code",
   "execution_count": 23,
   "metadata": {},
   "outputs": [
    {
     "data": {
      "text/html": [
       "<div>\n",
       "<style>\n",
       "    .dataframe thead tr:only-child th {\n",
       "        text-align: right;\n",
       "    }\n",
       "\n",
       "    .dataframe thead th {\n",
       "        text-align: left;\n",
       "    }\n",
       "\n",
       "    .dataframe tbody tr th {\n",
       "        vertical-align: top;\n",
       "    }\n",
       "</style>\n",
       "<table border=\"1\" class=\"dataframe\">\n",
       "  <thead>\n",
       "    <tr style=\"text-align: right;\">\n",
       "      <th></th>\n",
       "      <th>review_profilename</th>\n",
       "      <th>review_overall</th>\n",
       "    </tr>\n",
       "  </thead>\n",
       "  <tbody>\n",
       "    <tr>\n",
       "      <th>19121</th>\n",
       "      <td>timhoth</td>\n",
       "      <td>5.0</td>\n",
       "    </tr>\n",
       "    <tr>\n",
       "      <th>11140</th>\n",
       "      <td>davisdandrew</td>\n",
       "      <td>5.0</td>\n",
       "    </tr>\n",
       "    <tr>\n",
       "      <th>11144</th>\n",
       "      <td>dawgontap</td>\n",
       "      <td>5.0</td>\n",
       "    </tr>\n",
       "    <tr>\n",
       "      <th>7253</th>\n",
       "      <td>SurlyZach</td>\n",
       "      <td>5.0</td>\n",
       "    </tr>\n",
       "    <tr>\n",
       "      <th>20181</th>\n",
       "      <td>zzajjber</td>\n",
       "      <td>5.0</td>\n",
       "    </tr>\n",
       "  </tbody>\n",
       "</table>\n",
       "</div>"
      ],
      "text/plain": [
       "      review_profilename  review_overall\n",
       "19121            timhoth             5.0\n",
       "11140       davisdandrew             5.0\n",
       "11144          dawgontap             5.0\n",
       "7253           SurlyZach             5.0\n",
       "20181           zzajjber             5.0"
      ]
     },
     "execution_count": 23,
     "metadata": {},
     "output_type": "execute_result"
    }
   ],
   "source": [
    "# Users who have given highest rating\n",
    "avg_user_rating.tail()"
   ]
  },
  {
   "cell_type": "code",
   "execution_count": 24,
   "metadata": {},
   "outputs": [
    {
     "data": {
      "image/png": "[encoded data removed]",
      "text/plain": [
       "<matplotlib.figure.Figure at 0x20c56bfd898>"
      ]
     },
     "metadata": {},
     "output_type": "display_data"
    }
   ],
   "source": [
    "# Ploting the average user rating\n",
    "avg_user_rating.plot(x='review_profilename', y='review_overall', kind = 'hist')\n",
    "plt.show()"
   ]
  },
  {
   "cell_type": "markdown",
   "metadata": {},
   "source": [
    "##### Mostly 4 rating is given to the beer by the user"
   ]
  },
  {
   "cell_type": "markdown",
   "metadata": {},
   "source": [
    "### Total count of each beer present in the dataset"
   ]
  },
  {
   "cell_type": "code",
   "execution_count": 25,
   "metadata": {},
   "outputs": [
    {
     "data": {
      "text/html": [
       "<div>\n",
       "<style>\n",
       "    .dataframe thead tr:only-child th {\n",
       "        text-align: right;\n",
       "    }\n",
       "\n",
       "    .dataframe thead th {\n",
       "        text-align: left;\n",
       "    }\n",
       "\n",
       "    .dataframe tbody tr th {\n",
       "        vertical-align: top;\n",
       "    }\n",
       "</style>\n",
       "<table border=\"1\" class=\"dataframe\">\n",
       "  <thead>\n",
       "    <tr style=\"text-align: right;\">\n",
       "      <th></th>\n",
       "      <th>beer_beerid</th>\n",
       "      <th>review_profilename</th>\n",
       "      <th>review_overall</th>\n",
       "    </tr>\n",
       "  </thead>\n",
       "  <tbody>\n",
       "    <tr>\n",
       "      <th>12</th>\n",
       "      <td>436</td>\n",
       "      <td>Brent</td>\n",
       "      <td>3.0</td>\n",
       "    </tr>\n",
       "    <tr>\n",
       "      <th>18</th>\n",
       "      <td>25414</td>\n",
       "      <td>NJpadreFan</td>\n",
       "      <td>4.0</td>\n",
       "    </tr>\n",
       "    <tr>\n",
       "      <th>19</th>\n",
       "      <td>25414</td>\n",
       "      <td>vacax</td>\n",
       "      <td>2.5</td>\n",
       "    </tr>\n",
       "    <tr>\n",
       "      <th>20</th>\n",
       "      <td>25414</td>\n",
       "      <td>mikesgroove</td>\n",
       "      <td>4.0</td>\n",
       "    </tr>\n",
       "    <tr>\n",
       "      <th>21</th>\n",
       "      <td>25414</td>\n",
       "      <td>hdofu</td>\n",
       "      <td>4.0</td>\n",
       "    </tr>\n",
       "  </tbody>\n",
       "</table>\n",
       "</div>"
      ],
      "text/plain": [
       "    beer_beerid review_profilename  review_overall\n",
       "12          436              Brent             3.0\n",
       "18        25414         NJpadreFan             4.0\n",
       "19        25414              vacax             2.5\n",
       "20        25414        mikesgroove             4.0\n",
       "21        25414              hdofu             4.0"
      ]
     },
     "execution_count": 25,
     "metadata": {},
     "output_type": "execute_result"
    }
   ],
   "source": [
    "df1.head()"
   ]
  },
  {
   "cell_type": "code",
   "execution_count": 26,
   "metadata": {},
   "outputs": [
    {
     "name": "stdout",
     "output_type": "stream",
     "text": [
      "Beer having maximum count:\n",
      "     beer_beerid  total_count_of_beer\n",
      "756         2093                  977\n",
      "209          412                  966\n",
      "709         1904                  902\n",
      "448         1093                  840\n",
      "43            92                  812\n",
      "Beer having minimum count:\n",
      "      beer_beerid  total_count_of_beer\n",
      "1835        27339                   31\n",
      "2317        41009                   31\n",
      "848          2473                   31\n",
      "786          2222                   31\n",
      "2875        58605                   31\n"
     ]
    }
   ],
   "source": [
    "# total count of each beer\n",
    "total_beer_count = pd.DataFrame(df1.groupby('beer_beerid').count().reset_index().drop(['review_overall'],axis = 1))\n",
    "total_beer_count = total_beer_count.rename(columns = {'review_profilename' : 'total_count_of_beer'})\n",
    "total_beer_count = total_beer_count.sort_values('total_count_of_beer', ascending = False)\n",
    "print('Beer having maximum count:')\n",
    "print(total_beer_count.head(5))\n",
    "print('Beer having minimum count:')\n",
    "print(total_beer_count.tail(5))"
   ]
  },
  {
   "cell_type": "markdown",
   "metadata": {},
   "source": [
    "###### inferences:\n",
    "- 2093 is the beer_id  having maximum count"
   ]
  },
  {
   "cell_type": "code",
   "execution_count": 27,
   "metadata": {},
   "outputs": [
    {
     "data": {
      "image/png": "[encoded data removed]",
      "text/plain": [
       "<matplotlib.figure.Figure at 0x20c568a5d30>"
      ]
     },
     "metadata": {},
     "output_type": "display_data"
    }
   ],
   "source": [
    "# Ploting the total beer count\n",
    "total_beer_count.plot(x='beer_beerid', y='total_count_of_beer', kind = 'hist')\n",
    "plt.show()"
   ]
  },
  {
   "cell_type": "markdown",
   "metadata": {},
   "source": [
    "### Total count of each user present in the dataset"
   ]
  },
  {
   "cell_type": "code",
   "execution_count": 28,
   "metadata": {},
   "outputs": [
    {
     "name": "stdout",
     "output_type": "stream",
     "text": [
      "User having maximum count:\n",
      "      review_profilename  total_count\n",
      "1463       BuckeyeNation          687\n",
      "15593        mikesgroove          673\n",
      "16337     northyorksammy          603\n",
      "9853            brentk56          594\n",
      "8072              WesWes          575\n",
      "User having minimum count:\n",
      "      review_profilename  total_count\n",
      "10110         business32            1\n",
      "10114           butti001            1\n",
      "10119         buzzardman            1\n",
      "10120           buzzgreg            1\n",
      "20181           zzajjber            1\n"
     ]
    }
   ],
   "source": [
    "# total count of ratings given by each user\n",
    "total_user_count = pd.DataFrame(df1.groupby('review_profilename').count().reset_index().drop(['review_overall'],axis = 1))\n",
    "total_user_count = total_user_count.rename(columns = {'beer_beerid' : 'total_count'})\n",
    "total_user_count = total_user_count.sort_values('total_count', ascending = False)\n",
    "print('User having maximum count:')\n",
    "print(total_user_count.head(5))\n",
    "print('User having minimum count:')\n",
    "print(total_user_count.tail(5))"
   ]
  },
  {
   "cell_type": "markdown",
   "metadata": {},
   "source": [
    "#### BuckeyeNation is the user having maximum count"
   ]
  },
  {
   "cell_type": "code",
   "execution_count": 29,
   "metadata": {},
   "outputs": [
    {
     "data": {
      "image/png": "[encoded data removed]",
      "text/plain": [
       "<matplotlib.figure.Figure at 0x20c57dc1a58>"
      ]
     },
     "metadata": {},
     "output_type": "display_data"
    }
   ],
   "source": [
    "# Ploting the total user count\n",
    "total_user_count.plot(x='review_profilename', y='total_count', kind = 'hist')\n",
    "plt.show()"
   ]
  },
  {
   "cell_type": "markdown",
   "metadata": {},
   "source": [
    "# Recommendation model"
   ]
  },
  {
   "cell_type": "markdown",
   "metadata": {},
   "source": [
    "### Dividing the dataset into train and test"
   ]
  },
  {
   "cell_type": "code",
   "execution_count": 30,
   "metadata": {
    "collapsed": true
   },
   "outputs": [],
   "source": [
    "# dividing the data into train and test\n",
    "from sklearn.model_selection import train_test_split\n",
    "train, test = train_test_split(df1, test_size=0.30, random_state=31)"
   ]
  },
  {
   "cell_type": "code",
   "execution_count": 31,
   "metadata": {},
   "outputs": [
    {
     "name": "stdout",
     "output_type": "stream",
     "text": [
      "(234207, 3)\n",
      "(100375, 3)\n"
     ]
    }
   ],
   "source": [
    "# shape of the train and test data\n",
    "print(train.shape)\n",
    "print(test.shape)"
   ]
  },
  {
   "cell_type": "code",
   "execution_count": 32,
   "metadata": {
    "collapsed": true
   },
   "outputs": [],
   "source": [
    "# pivot ratings into beer features\n",
    "df_beer_features = train.pivot(\n",
    "    index='review_profilename',\n",
    "    columns='beer_beerid',\n",
    "    values='review_overall'\n",
    ").fillna(0)"
   ]
  },
  {
   "cell_type": "code",
   "execution_count": 33,
   "metadata": {},
   "outputs": [
    {
     "data": {
      "text/html": [
       "<div>\n",
       "<style>\n",
       "    .dataframe thead tr:only-child th {\n",
       "        text-align: right;\n",
       "    }\n",
       "\n",
       "    .dataframe thead th {\n",
       "        text-align: left;\n",
       "    }\n",
       "\n",
       "    .dataframe tbody tr th {\n",
       "        vertical-align: top;\n",
       "    }\n",
       "</style>\n",
       "<table border=\"1\" class=\"dataframe\">\n",
       "  <thead>\n",
       "    <tr style=\"text-align: right;\">\n",
       "      <th>beer_beerid</th>\n",
       "      <th>5</th>\n",
       "      <th>6</th>\n",
       "      <th>7</th>\n",
       "      <th>9</th>\n",
       "      <th>10</th>\n",
       "      <th>14</th>\n",
       "      <th>15</th>\n",
       "      <th>17</th>\n",
       "      <th>19</th>\n",
       "      <th>23</th>\n",
       "      <th>...</th>\n",
       "      <th>74323</th>\n",
       "      <th>74390</th>\n",
       "      <th>74530</th>\n",
       "      <th>74548</th>\n",
       "      <th>74579</th>\n",
       "      <th>74827</th>\n",
       "      <th>74904</th>\n",
       "      <th>74986</th>\n",
       "      <th>75013</th>\n",
       "      <th>75086</th>\n",
       "    </tr>\n",
       "    <tr>\n",
       "      <th>review_profilename</th>\n",
       "      <th></th>\n",
       "      <th></th>\n",
       "      <th></th>\n",
       "      <th></th>\n",
       "      <th></th>\n",
       "      <th></th>\n",
       "      <th></th>\n",
       "      <th></th>\n",
       "      <th></th>\n",
       "      <th></th>\n",
       "      <th></th>\n",
       "      <th></th>\n",
       "      <th></th>\n",
       "      <th></th>\n",
       "      <th></th>\n",
       "      <th></th>\n",
       "      <th></th>\n",
       "      <th></th>\n",
       "      <th></th>\n",
       "      <th></th>\n",
       "      <th></th>\n",
       "    </tr>\n",
       "  </thead>\n",
       "  <tbody>\n",
       "    <tr>\n",
       "      <th>0110x011</th>\n",
       "      <td>0.0</td>\n",
       "      <td>0.0</td>\n",
       "      <td>0.0</td>\n",
       "      <td>0.0</td>\n",
       "      <td>0.0</td>\n",
       "      <td>0.0</td>\n",
       "      <td>0.0</td>\n",
       "      <td>0.0</td>\n",
       "      <td>0.0</td>\n",
       "      <td>0.0</td>\n",
       "      <td>...</td>\n",
       "      <td>0.0</td>\n",
       "      <td>0.0</td>\n",
       "      <td>0.0</td>\n",
       "      <td>0.0</td>\n",
       "      <td>0.0</td>\n",
       "      <td>0.0</td>\n",
       "      <td>0.0</td>\n",
       "      <td>0.0</td>\n",
       "      <td>0.0</td>\n",
       "      <td>0.0</td>\n",
       "    </tr>\n",
       "    <tr>\n",
       "      <th>01Ryan10</th>\n",
       "      <td>0.0</td>\n",
       "      <td>0.0</td>\n",
       "      <td>0.0</td>\n",
       "      <td>0.0</td>\n",
       "      <td>0.0</td>\n",
       "      <td>0.0</td>\n",
       "      <td>0.0</td>\n",
       "      <td>0.0</td>\n",
       "      <td>0.0</td>\n",
       "      <td>0.0</td>\n",
       "      <td>...</td>\n",
       "      <td>0.0</td>\n",
       "      <td>0.0</td>\n",
       "      <td>0.0</td>\n",
       "      <td>0.0</td>\n",
       "      <td>0.0</td>\n",
       "      <td>0.0</td>\n",
       "      <td>0.0</td>\n",
       "      <td>0.0</td>\n",
       "      <td>0.0</td>\n",
       "      <td>0.0</td>\n",
       "    </tr>\n",
       "    <tr>\n",
       "      <th>04101Brewer</th>\n",
       "      <td>0.0</td>\n",
       "      <td>0.0</td>\n",
       "      <td>0.0</td>\n",
       "      <td>0.0</td>\n",
       "      <td>0.0</td>\n",
       "      <td>0.0</td>\n",
       "      <td>0.0</td>\n",
       "      <td>0.0</td>\n",
       "      <td>0.0</td>\n",
       "      <td>0.0</td>\n",
       "      <td>...</td>\n",
       "      <td>0.0</td>\n",
       "      <td>0.0</td>\n",
       "      <td>0.0</td>\n",
       "      <td>0.0</td>\n",
       "      <td>0.0</td>\n",
       "      <td>0.0</td>\n",
       "      <td>0.0</td>\n",
       "      <td>0.0</td>\n",
       "      <td>0.0</td>\n",
       "      <td>0.0</td>\n",
       "    </tr>\n",
       "    <tr>\n",
       "      <th>05Harley</th>\n",
       "      <td>0.0</td>\n",
       "      <td>0.0</td>\n",
       "      <td>0.0</td>\n",
       "      <td>0.0</td>\n",
       "      <td>0.0</td>\n",
       "      <td>0.0</td>\n",
       "      <td>0.0</td>\n",
       "      <td>0.0</td>\n",
       "      <td>0.0</td>\n",
       "      <td>0.0</td>\n",
       "      <td>...</td>\n",
       "      <td>0.0</td>\n",
       "      <td>0.0</td>\n",
       "      <td>0.0</td>\n",
       "      <td>0.0</td>\n",
       "      <td>0.0</td>\n",
       "      <td>0.0</td>\n",
       "      <td>0.0</td>\n",
       "      <td>0.0</td>\n",
       "      <td>0.0</td>\n",
       "      <td>0.0</td>\n",
       "    </tr>\n",
       "    <tr>\n",
       "      <th>0beerguy0</th>\n",
       "      <td>0.0</td>\n",
       "      <td>0.0</td>\n",
       "      <td>0.0</td>\n",
       "      <td>0.0</td>\n",
       "      <td>0.0</td>\n",
       "      <td>0.0</td>\n",
       "      <td>0.0</td>\n",
       "      <td>0.0</td>\n",
       "      <td>0.0</td>\n",
       "      <td>0.0</td>\n",
       "      <td>...</td>\n",
       "      <td>0.0</td>\n",
       "      <td>0.0</td>\n",
       "      <td>0.0</td>\n",
       "      <td>0.0</td>\n",
       "      <td>0.0</td>\n",
       "      <td>0.0</td>\n",
       "      <td>0.0</td>\n",
       "      <td>0.0</td>\n",
       "      <td>0.0</td>\n",
       "      <td>0.0</td>\n",
       "    </tr>\n",
       "  </tbody>\n",
       "</table>\n",
       "<p>5 rows × 3057 columns</p>\n",
       "</div>"
      ],
      "text/plain": [
       "beer_beerid         5      6      7      9      10     14     15     17     \\\n",
       "review_profilename                                                           \n",
       "0110x011              0.0    0.0    0.0    0.0    0.0    0.0    0.0    0.0   \n",
       "01Ryan10              0.0    0.0    0.0    0.0    0.0    0.0    0.0    0.0   \n",
       "04101Brewer           0.0    0.0    0.0    0.0    0.0    0.0    0.0    0.0   \n",
       "05Harley              0.0    0.0    0.0    0.0    0.0    0.0    0.0    0.0   \n",
       "0beerguy0             0.0    0.0    0.0    0.0    0.0    0.0    0.0    0.0   \n",
       "\n",
       "beer_beerid         19     23     ...    74323  74390  74530  74548  74579  \\\n",
       "review_profilename                ...                                        \n",
       "0110x011              0.0    0.0  ...      0.0    0.0    0.0    0.0    0.0   \n",
       "01Ryan10              0.0    0.0  ...      0.0    0.0    0.0    0.0    0.0   \n",
       "04101Brewer           0.0    0.0  ...      0.0    0.0    0.0    0.0    0.0   \n",
       "05Harley              0.0    0.0  ...      0.0    0.0    0.0    0.0    0.0   \n",
       "0beerguy0             0.0    0.0  ...      0.0    0.0    0.0    0.0    0.0   \n",
       "\n",
       "beer_beerid         74827  74904  74986  75013  75086  \n",
       "review_profilename                                     \n",
       "0110x011              0.0    0.0    0.0    0.0    0.0  \n",
       "01Ryan10              0.0    0.0    0.0    0.0    0.0  \n",
       "04101Brewer           0.0    0.0    0.0    0.0    0.0  \n",
       "05Harley              0.0    0.0    0.0    0.0    0.0  \n",
       "0beerguy0             0.0    0.0    0.0    0.0    0.0  \n",
       "\n",
       "[5 rows x 3057 columns]"
      ]
     },
     "execution_count": 33,
     "metadata": {},
     "output_type": "execute_result"
    }
   ],
   "source": [
    "df_beer_features.head()"
   ]
  },
  {
   "cell_type": "markdown",
   "metadata": {},
   "source": [
    "### User based collaborative filtering"
   ]
  },
  {
   "cell_type": "markdown",
   "metadata": {},
   "source": [
    "#### Copy train and test dataset\n",
    "\n",
    "These dataset will be used for prediction and evaluation. \n",
    "- Dummy train will be used later for prediction of the beers which has not been rated by the user. To ignore the beers rated by the user, we will mark it as 0 during prediction. The beers not rated by user is marked as 1 for prediction. \n",
    "- Dummy test will be used for evaluation. To evaluate, we will only make prediction on the beers rated by the user. So, this is marked as 1. This is just opposite of dummy_train"
   ]
  },
  {
   "cell_type": "code",
   "execution_count": 34,
   "metadata": {
    "collapsed": true
   },
   "outputs": [],
   "source": [
    "# copying to dummy_train and dummy_test\n",
    "dummy_train = train.copy()\n",
    "dummy_test = test.copy()"
   ]
  },
  {
   "cell_type": "code",
   "execution_count": 35,
   "metadata": {
    "collapsed": true
   },
   "outputs": [],
   "source": [
    "# converting the data to 0 and 1\n",
    "dummy_train['review_overall'] = dummy_train['review_overall'].apply(lambda x: 0 if x>=1 else 1)\n",
    "dummy_test['review_overall'] = dummy_test['review_overall'].apply(lambda x: 1 if x>=1 else 0)"
   ]
  },
  {
   "cell_type": "code",
   "execution_count": 36,
   "metadata": {
    "collapsed": true
   },
   "outputs": [],
   "source": [
    "# The beers not rated by user is marked as 1 for prediction. \n",
    "dummy_train = dummy_train.pivot(\n",
    "    index='review_profilename',\n",
    "    columns='beer_beerid',\n",
    "    values='review_overall'\n",
    ").fillna(1)\n",
    "\n",
    "# The beers not rated by user is marked as 0 for evaluation. \n",
    "dummy_test = dummy_test.pivot(\n",
    "    index='review_profilename',\n",
    "    columns='beer_beerid',\n",
    "    values='review_overall'\n",
    ").fillna(0)"
   ]
  },
  {
   "cell_type": "code",
   "execution_count": 37,
   "metadata": {},
   "outputs": [
    {
     "data": {
      "text/html": [
       "<div>\n",
       "<style>\n",
       "    .dataframe thead tr:only-child th {\n",
       "        text-align: right;\n",
       "    }\n",
       "\n",
       "    .dataframe thead th {\n",
       "        text-align: left;\n",
       "    }\n",
       "\n",
       "    .dataframe tbody tr th {\n",
       "        vertical-align: top;\n",
       "    }\n",
       "</style>\n",
       "<table border=\"1\" class=\"dataframe\">\n",
       "  <thead>\n",
       "    <tr style=\"text-align: right;\">\n",
       "      <th>beer_beerid</th>\n",
       "      <th>5</th>\n",
       "      <th>6</th>\n",
       "      <th>7</th>\n",
       "      <th>9</th>\n",
       "      <th>10</th>\n",
       "      <th>14</th>\n",
       "      <th>15</th>\n",
       "      <th>17</th>\n",
       "      <th>19</th>\n",
       "      <th>23</th>\n",
       "      <th>...</th>\n",
       "      <th>74323</th>\n",
       "      <th>74390</th>\n",
       "      <th>74530</th>\n",
       "      <th>74548</th>\n",
       "      <th>74579</th>\n",
       "      <th>74827</th>\n",
       "      <th>74904</th>\n",
       "      <th>74986</th>\n",
       "      <th>75013</th>\n",
       "      <th>75086</th>\n",
       "    </tr>\n",
       "    <tr>\n",
       "      <th>review_profilename</th>\n",
       "      <th></th>\n",
       "      <th></th>\n",
       "      <th></th>\n",
       "      <th></th>\n",
       "      <th></th>\n",
       "      <th></th>\n",
       "      <th></th>\n",
       "      <th></th>\n",
       "      <th></th>\n",
       "      <th></th>\n",
       "      <th></th>\n",
       "      <th></th>\n",
       "      <th></th>\n",
       "      <th></th>\n",
       "      <th></th>\n",
       "      <th></th>\n",
       "      <th></th>\n",
       "      <th></th>\n",
       "      <th></th>\n",
       "      <th></th>\n",
       "      <th></th>\n",
       "    </tr>\n",
       "  </thead>\n",
       "  <tbody>\n",
       "    <tr>\n",
       "      <th>0110x011</th>\n",
       "      <td>1.0</td>\n",
       "      <td>1.0</td>\n",
       "      <td>1.0</td>\n",
       "      <td>1.0</td>\n",
       "      <td>1.0</td>\n",
       "      <td>1.0</td>\n",
       "      <td>1.0</td>\n",
       "      <td>1.0</td>\n",
       "      <td>1.0</td>\n",
       "      <td>1.0</td>\n",
       "      <td>...</td>\n",
       "      <td>1.0</td>\n",
       "      <td>1.0</td>\n",
       "      <td>1.0</td>\n",
       "      <td>1.0</td>\n",
       "      <td>1.0</td>\n",
       "      <td>1.0</td>\n",
       "      <td>1.0</td>\n",
       "      <td>1.0</td>\n",
       "      <td>1.0</td>\n",
       "      <td>1.0</td>\n",
       "    </tr>\n",
       "    <tr>\n",
       "      <th>01Ryan10</th>\n",
       "      <td>1.0</td>\n",
       "      <td>1.0</td>\n",
       "      <td>1.0</td>\n",
       "      <td>1.0</td>\n",
       "      <td>1.0</td>\n",
       "      <td>1.0</td>\n",
       "      <td>1.0</td>\n",
       "      <td>1.0</td>\n",
       "      <td>1.0</td>\n",
       "      <td>1.0</td>\n",
       "      <td>...</td>\n",
       "      <td>1.0</td>\n",
       "      <td>1.0</td>\n",
       "      <td>1.0</td>\n",
       "      <td>1.0</td>\n",
       "      <td>1.0</td>\n",
       "      <td>1.0</td>\n",
       "      <td>1.0</td>\n",
       "      <td>1.0</td>\n",
       "      <td>1.0</td>\n",
       "      <td>1.0</td>\n",
       "    </tr>\n",
       "    <tr>\n",
       "      <th>04101Brewer</th>\n",
       "      <td>1.0</td>\n",
       "      <td>1.0</td>\n",
       "      <td>1.0</td>\n",
       "      <td>1.0</td>\n",
       "      <td>1.0</td>\n",
       "      <td>1.0</td>\n",
       "      <td>1.0</td>\n",
       "      <td>1.0</td>\n",
       "      <td>1.0</td>\n",
       "      <td>1.0</td>\n",
       "      <td>...</td>\n",
       "      <td>1.0</td>\n",
       "      <td>1.0</td>\n",
       "      <td>1.0</td>\n",
       "      <td>1.0</td>\n",
       "      <td>1.0</td>\n",
       "      <td>1.0</td>\n",
       "      <td>1.0</td>\n",
       "      <td>1.0</td>\n",
       "      <td>1.0</td>\n",
       "      <td>1.0</td>\n",
       "    </tr>\n",
       "    <tr>\n",
       "      <th>05Harley</th>\n",
       "      <td>1.0</td>\n",
       "      <td>1.0</td>\n",
       "      <td>1.0</td>\n",
       "      <td>1.0</td>\n",
       "      <td>1.0</td>\n",
       "      <td>1.0</td>\n",
       "      <td>1.0</td>\n",
       "      <td>1.0</td>\n",
       "      <td>1.0</td>\n",
       "      <td>1.0</td>\n",
       "      <td>...</td>\n",
       "      <td>1.0</td>\n",
       "      <td>1.0</td>\n",
       "      <td>1.0</td>\n",
       "      <td>1.0</td>\n",
       "      <td>1.0</td>\n",
       "      <td>1.0</td>\n",
       "      <td>1.0</td>\n",
       "      <td>1.0</td>\n",
       "      <td>1.0</td>\n",
       "      <td>1.0</td>\n",
       "    </tr>\n",
       "    <tr>\n",
       "      <th>0beerguy0</th>\n",
       "      <td>1.0</td>\n",
       "      <td>1.0</td>\n",
       "      <td>1.0</td>\n",
       "      <td>1.0</td>\n",
       "      <td>1.0</td>\n",
       "      <td>1.0</td>\n",
       "      <td>1.0</td>\n",
       "      <td>1.0</td>\n",
       "      <td>1.0</td>\n",
       "      <td>1.0</td>\n",
       "      <td>...</td>\n",
       "      <td>1.0</td>\n",
       "      <td>1.0</td>\n",
       "      <td>1.0</td>\n",
       "      <td>1.0</td>\n",
       "      <td>1.0</td>\n",
       "      <td>1.0</td>\n",
       "      <td>1.0</td>\n",
       "      <td>1.0</td>\n",
       "      <td>1.0</td>\n",
       "      <td>1.0</td>\n",
       "    </tr>\n",
       "  </tbody>\n",
       "</table>\n",
       "<p>5 rows × 3057 columns</p>\n",
       "</div>"
      ],
      "text/plain": [
       "beer_beerid         5      6      7      9      10     14     15     17     \\\n",
       "review_profilename                                                           \n",
       "0110x011              1.0    1.0    1.0    1.0    1.0    1.0    1.0    1.0   \n",
       "01Ryan10              1.0    1.0    1.0    1.0    1.0    1.0    1.0    1.0   \n",
       "04101Brewer           1.0    1.0    1.0    1.0    1.0    1.0    1.0    1.0   \n",
       "05Harley              1.0    1.0    1.0    1.0    1.0    1.0    1.0    1.0   \n",
       "0beerguy0             1.0    1.0    1.0    1.0    1.0    1.0    1.0    1.0   \n",
       "\n",
       "beer_beerid         19     23     ...    74323  74390  74530  74548  74579  \\\n",
       "review_profilename                ...                                        \n",
       "0110x011              1.0    1.0  ...      1.0    1.0    1.0    1.0    1.0   \n",
       "01Ryan10              1.0    1.0  ...      1.0    1.0    1.0    1.0    1.0   \n",
       "04101Brewer           1.0    1.0  ...      1.0    1.0    1.0    1.0    1.0   \n",
       "05Harley              1.0    1.0  ...      1.0    1.0    1.0    1.0    1.0   \n",
       "0beerguy0             1.0    1.0  ...      1.0    1.0    1.0    1.0    1.0   \n",
       "\n",
       "beer_beerid         74827  74904  74986  75013  75086  \n",
       "review_profilename                                     \n",
       "0110x011              1.0    1.0    1.0    1.0    1.0  \n",
       "01Ryan10              1.0    1.0    1.0    1.0    1.0  \n",
       "04101Brewer           1.0    1.0    1.0    1.0    1.0  \n",
       "05Harley              1.0    1.0    1.0    1.0    1.0  \n",
       "0beerguy0             1.0    1.0    1.0    1.0    1.0  \n",
       "\n",
       "[5 rows x 3057 columns]"
      ]
     },
     "execution_count": 37,
     "metadata": {},
     "output_type": "execute_result"
    }
   ],
   "source": [
    "dummy_train.head()"
   ]
  },
  {
   "cell_type": "code",
   "execution_count": 38,
   "metadata": {},
   "outputs": [
    {
     "data": {
      "text/html": [
       "<div>\n",
       "<style>\n",
       "    .dataframe thead tr:only-child th {\n",
       "        text-align: right;\n",
       "    }\n",
       "\n",
       "    .dataframe thead th {\n",
       "        text-align: left;\n",
       "    }\n",
       "\n",
       "    .dataframe tbody tr th {\n",
       "        vertical-align: top;\n",
       "    }\n",
       "</style>\n",
       "<table border=\"1\" class=\"dataframe\">\n",
       "  <thead>\n",
       "    <tr style=\"text-align: right;\">\n",
       "      <th>beer_beerid</th>\n",
       "      <th>5</th>\n",
       "      <th>6</th>\n",
       "      <th>7</th>\n",
       "      <th>9</th>\n",
       "      <th>10</th>\n",
       "      <th>14</th>\n",
       "      <th>15</th>\n",
       "      <th>17</th>\n",
       "      <th>19</th>\n",
       "      <th>23</th>\n",
       "      <th>...</th>\n",
       "      <th>74323</th>\n",
       "      <th>74390</th>\n",
       "      <th>74530</th>\n",
       "      <th>74548</th>\n",
       "      <th>74579</th>\n",
       "      <th>74827</th>\n",
       "      <th>74904</th>\n",
       "      <th>74986</th>\n",
       "      <th>75013</th>\n",
       "      <th>75086</th>\n",
       "    </tr>\n",
       "    <tr>\n",
       "      <th>review_profilename</th>\n",
       "      <th></th>\n",
       "      <th></th>\n",
       "      <th></th>\n",
       "      <th></th>\n",
       "      <th></th>\n",
       "      <th></th>\n",
       "      <th></th>\n",
       "      <th></th>\n",
       "      <th></th>\n",
       "      <th></th>\n",
       "      <th></th>\n",
       "      <th></th>\n",
       "      <th></th>\n",
       "      <th></th>\n",
       "      <th></th>\n",
       "      <th></th>\n",
       "      <th></th>\n",
       "      <th></th>\n",
       "      <th></th>\n",
       "      <th></th>\n",
       "      <th></th>\n",
       "    </tr>\n",
       "  </thead>\n",
       "  <tbody>\n",
       "    <tr>\n",
       "      <th>0110x011</th>\n",
       "      <td>0.0</td>\n",
       "      <td>0.0</td>\n",
       "      <td>0.0</td>\n",
       "      <td>0.0</td>\n",
       "      <td>0.0</td>\n",
       "      <td>0.0</td>\n",
       "      <td>0.0</td>\n",
       "      <td>0.0</td>\n",
       "      <td>0.0</td>\n",
       "      <td>0.0</td>\n",
       "      <td>...</td>\n",
       "      <td>0.0</td>\n",
       "      <td>0.0</td>\n",
       "      <td>0.0</td>\n",
       "      <td>0.0</td>\n",
       "      <td>0.0</td>\n",
       "      <td>0.0</td>\n",
       "      <td>0.0</td>\n",
       "      <td>0.0</td>\n",
       "      <td>0.0</td>\n",
       "      <td>0.0</td>\n",
       "    </tr>\n",
       "    <tr>\n",
       "      <th>05Harley</th>\n",
       "      <td>0.0</td>\n",
       "      <td>0.0</td>\n",
       "      <td>0.0</td>\n",
       "      <td>0.0</td>\n",
       "      <td>0.0</td>\n",
       "      <td>0.0</td>\n",
       "      <td>0.0</td>\n",
       "      <td>0.0</td>\n",
       "      <td>0.0</td>\n",
       "      <td>0.0</td>\n",
       "      <td>...</td>\n",
       "      <td>0.0</td>\n",
       "      <td>0.0</td>\n",
       "      <td>0.0</td>\n",
       "      <td>0.0</td>\n",
       "      <td>0.0</td>\n",
       "      <td>0.0</td>\n",
       "      <td>0.0</td>\n",
       "      <td>0.0</td>\n",
       "      <td>0.0</td>\n",
       "      <td>0.0</td>\n",
       "    </tr>\n",
       "    <tr>\n",
       "      <th>0beerguy0</th>\n",
       "      <td>0.0</td>\n",
       "      <td>0.0</td>\n",
       "      <td>0.0</td>\n",
       "      <td>0.0</td>\n",
       "      <td>0.0</td>\n",
       "      <td>0.0</td>\n",
       "      <td>0.0</td>\n",
       "      <td>0.0</td>\n",
       "      <td>0.0</td>\n",
       "      <td>0.0</td>\n",
       "      <td>...</td>\n",
       "      <td>0.0</td>\n",
       "      <td>0.0</td>\n",
       "      <td>0.0</td>\n",
       "      <td>0.0</td>\n",
       "      <td>0.0</td>\n",
       "      <td>0.0</td>\n",
       "      <td>0.0</td>\n",
       "      <td>0.0</td>\n",
       "      <td>0.0</td>\n",
       "      <td>0.0</td>\n",
       "    </tr>\n",
       "    <tr>\n",
       "      <th>0runkp0s</th>\n",
       "      <td>0.0</td>\n",
       "      <td>0.0</td>\n",
       "      <td>0.0</td>\n",
       "      <td>0.0</td>\n",
       "      <td>0.0</td>\n",
       "      <td>0.0</td>\n",
       "      <td>0.0</td>\n",
       "      <td>0.0</td>\n",
       "      <td>0.0</td>\n",
       "      <td>0.0</td>\n",
       "      <td>...</td>\n",
       "      <td>0.0</td>\n",
       "      <td>0.0</td>\n",
       "      <td>0.0</td>\n",
       "      <td>0.0</td>\n",
       "      <td>0.0</td>\n",
       "      <td>0.0</td>\n",
       "      <td>0.0</td>\n",
       "      <td>0.0</td>\n",
       "      <td>0.0</td>\n",
       "      <td>0.0</td>\n",
       "    </tr>\n",
       "    <tr>\n",
       "      <th>0tt0</th>\n",
       "      <td>0.0</td>\n",
       "      <td>0.0</td>\n",
       "      <td>0.0</td>\n",
       "      <td>0.0</td>\n",
       "      <td>0.0</td>\n",
       "      <td>0.0</td>\n",
       "      <td>0.0</td>\n",
       "      <td>0.0</td>\n",
       "      <td>0.0</td>\n",
       "      <td>0.0</td>\n",
       "      <td>...</td>\n",
       "      <td>0.0</td>\n",
       "      <td>0.0</td>\n",
       "      <td>0.0</td>\n",
       "      <td>0.0</td>\n",
       "      <td>0.0</td>\n",
       "      <td>0.0</td>\n",
       "      <td>0.0</td>\n",
       "      <td>0.0</td>\n",
       "      <td>0.0</td>\n",
       "      <td>0.0</td>\n",
       "    </tr>\n",
       "  </tbody>\n",
       "</table>\n",
       "<p>5 rows × 3057 columns</p>\n",
       "</div>"
      ],
      "text/plain": [
       "beer_beerid         5      6      7      9      10     14     15     17     \\\n",
       "review_profilename                                                           \n",
       "0110x011              0.0    0.0    0.0    0.0    0.0    0.0    0.0    0.0   \n",
       "05Harley              0.0    0.0    0.0    0.0    0.0    0.0    0.0    0.0   \n",
       "0beerguy0             0.0    0.0    0.0    0.0    0.0    0.0    0.0    0.0   \n",
       "0runkp0s              0.0    0.0    0.0    0.0    0.0    0.0    0.0    0.0   \n",
       "0tt0                  0.0    0.0    0.0    0.0    0.0    0.0    0.0    0.0   \n",
       "\n",
       "beer_beerid         19     23     ...    74323  74390  74530  74548  74579  \\\n",
       "review_profilename                ...                                        \n",
       "0110x011              0.0    0.0  ...      0.0    0.0    0.0    0.0    0.0   \n",
       "05Harley              0.0    0.0  ...      0.0    0.0    0.0    0.0    0.0   \n",
       "0beerguy0             0.0    0.0  ...      0.0    0.0    0.0    0.0    0.0   \n",
       "0runkp0s              0.0    0.0  ...      0.0    0.0    0.0    0.0    0.0   \n",
       "0tt0                  0.0    0.0  ...      0.0    0.0    0.0    0.0    0.0   \n",
       "\n",
       "beer_beerid         74827  74904  74986  75013  75086  \n",
       "review_profilename                                     \n",
       "0110x011              0.0    0.0    0.0    0.0    0.0  \n",
       "05Harley              0.0    0.0    0.0    0.0    0.0  \n",
       "0beerguy0             0.0    0.0    0.0    0.0    0.0  \n",
       "0runkp0s              0.0    0.0    0.0    0.0    0.0  \n",
       "0tt0                  0.0    0.0    0.0    0.0    0.0  \n",
       "\n",
       "[5 rows x 3057 columns]"
      ]
     },
     "execution_count": 38,
     "metadata": {},
     "output_type": "execute_result"
    }
   ],
   "source": [
    "dummy_test.head()"
   ]
  },
  {
   "cell_type": "code",
   "execution_count": 39,
   "metadata": {},
   "outputs": [
    {
     "name": "stdout",
     "output_type": "stream",
     "text": [
      "(17729, 3057)\n",
      "(12834, 3057)\n"
     ]
    }
   ],
   "source": [
    "print(dummy_train.shape)\n",
    "print(dummy_test.shape)"
   ]
  },
  {
   "cell_type": "markdown",
   "metadata": {},
   "source": [
    "### User Similarity Matrix"
   ]
  },
  {
   "cell_type": "markdown",
   "metadata": {},
   "source": [
    "#### Using Cosine Similarity"
   ]
  },
  {
   "cell_type": "code",
   "execution_count": 40,
   "metadata": {},
   "outputs": [
    {
     "name": "stdout",
     "output_type": "stream",
     "text": [
      "[[ 1.  0.  0. ...,  0.  0.  0.]\n",
      " [ 0.  1.  0. ...,  0.  0.  0.]\n",
      " [ 0.  0.  1. ...,  0.  0.  0.]\n",
      " ..., \n",
      " [ 0.  0.  0. ...,  1.  0.  0.]\n",
      " [ 0.  0.  0. ...,  0.  1.  0.]\n",
      " [ 0.  0.  0. ...,  0.  0.  1.]]\n"
     ]
    }
   ],
   "source": [
    "from sklearn.metrics.pairwise import pairwise_distances\n",
    "\n",
    "# User Similarity Matrix\n",
    "user_correlation = 1 - pairwise_distances(df_beer_features, metric='cosine')\n",
    "user_correlation[np.isnan(user_correlation)] = 0\n",
    "print(user_correlation)"
   ]
  },
  {
   "cell_type": "code",
   "execution_count": 41,
   "metadata": {},
   "outputs": [
    {
     "data": {
      "text/plain": [
       "(17729, 17729)"
      ]
     },
     "execution_count": 41,
     "metadata": {},
     "output_type": "execute_result"
    }
   ],
   "source": [
    "user_correlation.shape"
   ]
  },
  {
   "cell_type": "markdown",
   "metadata": {},
   "source": [
    "### Using adjusted Cosine\n",
    "\n",
    "#### Here, not removing the NaN values and calculating the mean only for the beers rated by the user"
   ]
  },
  {
   "cell_type": "code",
   "execution_count": 42,
   "metadata": {
    "collapsed": true
   },
   "outputs": [],
   "source": [
    "beer_features = train.pivot(\n",
    "    index='review_profilename',\n",
    "    columns='beer_beerid',\n",
    "    values='review_overall'\n",
    ")"
   ]
  },
  {
   "cell_type": "code",
   "execution_count": 43,
   "metadata": {},
   "outputs": [
    {
     "data": {
      "text/html": [
       "<div>\n",
       "<style>\n",
       "    .dataframe thead tr:only-child th {\n",
       "        text-align: right;\n",
       "    }\n",
       "\n",
       "    .dataframe thead th {\n",
       "        text-align: left;\n",
       "    }\n",
       "\n",
       "    .dataframe tbody tr th {\n",
       "        vertical-align: top;\n",
       "    }\n",
       "</style>\n",
       "<table border=\"1\" class=\"dataframe\">\n",
       "  <thead>\n",
       "    <tr style=\"text-align: right;\">\n",
       "      <th>beer_beerid</th>\n",
       "      <th>5</th>\n",
       "      <th>6</th>\n",
       "      <th>7</th>\n",
       "      <th>9</th>\n",
       "      <th>10</th>\n",
       "      <th>14</th>\n",
       "      <th>15</th>\n",
       "      <th>17</th>\n",
       "      <th>19</th>\n",
       "      <th>23</th>\n",
       "      <th>...</th>\n",
       "      <th>74323</th>\n",
       "      <th>74390</th>\n",
       "      <th>74530</th>\n",
       "      <th>74548</th>\n",
       "      <th>74579</th>\n",
       "      <th>74827</th>\n",
       "      <th>74904</th>\n",
       "      <th>74986</th>\n",
       "      <th>75013</th>\n",
       "      <th>75086</th>\n",
       "    </tr>\n",
       "    <tr>\n",
       "      <th>review_profilename</th>\n",
       "      <th></th>\n",
       "      <th></th>\n",
       "      <th></th>\n",
       "      <th></th>\n",
       "      <th></th>\n",
       "      <th></th>\n",
       "      <th></th>\n",
       "      <th></th>\n",
       "      <th></th>\n",
       "      <th></th>\n",
       "      <th></th>\n",
       "      <th></th>\n",
       "      <th></th>\n",
       "      <th></th>\n",
       "      <th></th>\n",
       "      <th></th>\n",
       "      <th></th>\n",
       "      <th></th>\n",
       "      <th></th>\n",
       "      <th></th>\n",
       "      <th></th>\n",
       "    </tr>\n",
       "  </thead>\n",
       "  <tbody>\n",
       "    <tr>\n",
       "      <th>0110x011</th>\n",
       "      <td>NaN</td>\n",
       "      <td>NaN</td>\n",
       "      <td>NaN</td>\n",
       "      <td>NaN</td>\n",
       "      <td>NaN</td>\n",
       "      <td>NaN</td>\n",
       "      <td>NaN</td>\n",
       "      <td>NaN</td>\n",
       "      <td>NaN</td>\n",
       "      <td>NaN</td>\n",
       "      <td>...</td>\n",
       "      <td>NaN</td>\n",
       "      <td>NaN</td>\n",
       "      <td>NaN</td>\n",
       "      <td>NaN</td>\n",
       "      <td>NaN</td>\n",
       "      <td>NaN</td>\n",
       "      <td>NaN</td>\n",
       "      <td>NaN</td>\n",
       "      <td>NaN</td>\n",
       "      <td>NaN</td>\n",
       "    </tr>\n",
       "    <tr>\n",
       "      <th>01Ryan10</th>\n",
       "      <td>NaN</td>\n",
       "      <td>NaN</td>\n",
       "      <td>NaN</td>\n",
       "      <td>NaN</td>\n",
       "      <td>NaN</td>\n",
       "      <td>NaN</td>\n",
       "      <td>NaN</td>\n",
       "      <td>NaN</td>\n",
       "      <td>NaN</td>\n",
       "      <td>NaN</td>\n",
       "      <td>...</td>\n",
       "      <td>NaN</td>\n",
       "      <td>NaN</td>\n",
       "      <td>NaN</td>\n",
       "      <td>NaN</td>\n",
       "      <td>NaN</td>\n",
       "      <td>NaN</td>\n",
       "      <td>NaN</td>\n",
       "      <td>NaN</td>\n",
       "      <td>NaN</td>\n",
       "      <td>NaN</td>\n",
       "    </tr>\n",
       "    <tr>\n",
       "      <th>04101Brewer</th>\n",
       "      <td>NaN</td>\n",
       "      <td>NaN</td>\n",
       "      <td>NaN</td>\n",
       "      <td>NaN</td>\n",
       "      <td>NaN</td>\n",
       "      <td>NaN</td>\n",
       "      <td>NaN</td>\n",
       "      <td>NaN</td>\n",
       "      <td>NaN</td>\n",
       "      <td>NaN</td>\n",
       "      <td>...</td>\n",
       "      <td>NaN</td>\n",
       "      <td>NaN</td>\n",
       "      <td>NaN</td>\n",
       "      <td>NaN</td>\n",
       "      <td>NaN</td>\n",
       "      <td>NaN</td>\n",
       "      <td>NaN</td>\n",
       "      <td>NaN</td>\n",
       "      <td>NaN</td>\n",
       "      <td>NaN</td>\n",
       "    </tr>\n",
       "    <tr>\n",
       "      <th>05Harley</th>\n",
       "      <td>NaN</td>\n",
       "      <td>NaN</td>\n",
       "      <td>NaN</td>\n",
       "      <td>NaN</td>\n",
       "      <td>NaN</td>\n",
       "      <td>NaN</td>\n",
       "      <td>NaN</td>\n",
       "      <td>NaN</td>\n",
       "      <td>NaN</td>\n",
       "      <td>NaN</td>\n",
       "      <td>...</td>\n",
       "      <td>NaN</td>\n",
       "      <td>NaN</td>\n",
       "      <td>NaN</td>\n",
       "      <td>NaN</td>\n",
       "      <td>NaN</td>\n",
       "      <td>NaN</td>\n",
       "      <td>NaN</td>\n",
       "      <td>NaN</td>\n",
       "      <td>NaN</td>\n",
       "      <td>NaN</td>\n",
       "    </tr>\n",
       "    <tr>\n",
       "      <th>0beerguy0</th>\n",
       "      <td>NaN</td>\n",
       "      <td>NaN</td>\n",
       "      <td>NaN</td>\n",
       "      <td>NaN</td>\n",
       "      <td>NaN</td>\n",
       "      <td>NaN</td>\n",
       "      <td>NaN</td>\n",
       "      <td>NaN</td>\n",
       "      <td>NaN</td>\n",
       "      <td>NaN</td>\n",
       "      <td>...</td>\n",
       "      <td>NaN</td>\n",
       "      <td>NaN</td>\n",
       "      <td>NaN</td>\n",
       "      <td>NaN</td>\n",
       "      <td>NaN</td>\n",
       "      <td>NaN</td>\n",
       "      <td>NaN</td>\n",
       "      <td>NaN</td>\n",
       "      <td>NaN</td>\n",
       "      <td>NaN</td>\n",
       "    </tr>\n",
       "  </tbody>\n",
       "</table>\n",
       "<p>5 rows × 3057 columns</p>\n",
       "</div>"
      ],
      "text/plain": [
       "beer_beerid         5      6      7      9      10     14     15     17     \\\n",
       "review_profilename                                                           \n",
       "0110x011              NaN    NaN    NaN    NaN    NaN    NaN    NaN    NaN   \n",
       "01Ryan10              NaN    NaN    NaN    NaN    NaN    NaN    NaN    NaN   \n",
       "04101Brewer           NaN    NaN    NaN    NaN    NaN    NaN    NaN    NaN   \n",
       "05Harley              NaN    NaN    NaN    NaN    NaN    NaN    NaN    NaN   \n",
       "0beerguy0             NaN    NaN    NaN    NaN    NaN    NaN    NaN    NaN   \n",
       "\n",
       "beer_beerid         19     23     ...    74323  74390  74530  74548  74579  \\\n",
       "review_profilename                ...                                        \n",
       "0110x011              NaN    NaN  ...      NaN    NaN    NaN    NaN    NaN   \n",
       "01Ryan10              NaN    NaN  ...      NaN    NaN    NaN    NaN    NaN   \n",
       "04101Brewer           NaN    NaN  ...      NaN    NaN    NaN    NaN    NaN   \n",
       "05Harley              NaN    NaN  ...      NaN    NaN    NaN    NaN    NaN   \n",
       "0beerguy0             NaN    NaN  ...      NaN    NaN    NaN    NaN    NaN   \n",
       "\n",
       "beer_beerid         74827  74904  74986  75013  75086  \n",
       "review_profilename                                     \n",
       "0110x011              NaN    NaN    NaN    NaN    NaN  \n",
       "01Ryan10              NaN    NaN    NaN    NaN    NaN  \n",
       "04101Brewer           NaN    NaN    NaN    NaN    NaN  \n",
       "05Harley              NaN    NaN    NaN    NaN    NaN  \n",
       "0beerguy0             NaN    NaN    NaN    NaN    NaN  \n",
       "\n",
       "[5 rows x 3057 columns]"
      ]
     },
     "execution_count": 43,
     "metadata": {},
     "output_type": "execute_result"
    }
   ],
   "source": [
    "beer_features.head()"
   ]
  },
  {
   "cell_type": "markdown",
   "metadata": {},
   "source": [
    "#### Normalising the rating of the beer for each user around 0 mean"
   ]
  },
  {
   "cell_type": "code",
   "execution_count": 44,
   "metadata": {
    "collapsed": true
   },
   "outputs": [],
   "source": [
    "mean = np.nanmean(beer_features, axis=1)\n",
    "df_subtracted = (beer_features.T-mean).T"
   ]
  },
  {
   "cell_type": "code",
   "execution_count": 45,
   "metadata": {},
   "outputs": [
    {
     "data": {
      "text/html": [
       "<div>\n",
       "<style>\n",
       "    .dataframe thead tr:only-child th {\n",
       "        text-align: right;\n",
       "    }\n",
       "\n",
       "    .dataframe thead th {\n",
       "        text-align: left;\n",
       "    }\n",
       "\n",
       "    .dataframe tbody tr th {\n",
       "        vertical-align: top;\n",
       "    }\n",
       "</style>\n",
       "<table border=\"1\" class=\"dataframe\">\n",
       "  <thead>\n",
       "    <tr style=\"text-align: right;\">\n",
       "      <th>beer_beerid</th>\n",
       "      <th>5</th>\n",
       "      <th>6</th>\n",
       "      <th>7</th>\n",
       "      <th>9</th>\n",
       "      <th>10</th>\n",
       "      <th>14</th>\n",
       "      <th>15</th>\n",
       "      <th>17</th>\n",
       "      <th>19</th>\n",
       "      <th>23</th>\n",
       "      <th>...</th>\n",
       "      <th>74323</th>\n",
       "      <th>74390</th>\n",
       "      <th>74530</th>\n",
       "      <th>74548</th>\n",
       "      <th>74579</th>\n",
       "      <th>74827</th>\n",
       "      <th>74904</th>\n",
       "      <th>74986</th>\n",
       "      <th>75013</th>\n",
       "      <th>75086</th>\n",
       "    </tr>\n",
       "    <tr>\n",
       "      <th>review_profilename</th>\n",
       "      <th></th>\n",
       "      <th></th>\n",
       "      <th></th>\n",
       "      <th></th>\n",
       "      <th></th>\n",
       "      <th></th>\n",
       "      <th></th>\n",
       "      <th></th>\n",
       "      <th></th>\n",
       "      <th></th>\n",
       "      <th></th>\n",
       "      <th></th>\n",
       "      <th></th>\n",
       "      <th></th>\n",
       "      <th></th>\n",
       "      <th></th>\n",
       "      <th></th>\n",
       "      <th></th>\n",
       "      <th></th>\n",
       "      <th></th>\n",
       "      <th></th>\n",
       "    </tr>\n",
       "  </thead>\n",
       "  <tbody>\n",
       "    <tr>\n",
       "      <th>0110x011</th>\n",
       "      <td>NaN</td>\n",
       "      <td>NaN</td>\n",
       "      <td>NaN</td>\n",
       "      <td>NaN</td>\n",
       "      <td>NaN</td>\n",
       "      <td>NaN</td>\n",
       "      <td>NaN</td>\n",
       "      <td>NaN</td>\n",
       "      <td>NaN</td>\n",
       "      <td>NaN</td>\n",
       "      <td>...</td>\n",
       "      <td>NaN</td>\n",
       "      <td>NaN</td>\n",
       "      <td>NaN</td>\n",
       "      <td>NaN</td>\n",
       "      <td>NaN</td>\n",
       "      <td>NaN</td>\n",
       "      <td>NaN</td>\n",
       "      <td>NaN</td>\n",
       "      <td>NaN</td>\n",
       "      <td>NaN</td>\n",
       "    </tr>\n",
       "    <tr>\n",
       "      <th>01Ryan10</th>\n",
       "      <td>NaN</td>\n",
       "      <td>NaN</td>\n",
       "      <td>NaN</td>\n",
       "      <td>NaN</td>\n",
       "      <td>NaN</td>\n",
       "      <td>NaN</td>\n",
       "      <td>NaN</td>\n",
       "      <td>NaN</td>\n",
       "      <td>NaN</td>\n",
       "      <td>NaN</td>\n",
       "      <td>...</td>\n",
       "      <td>NaN</td>\n",
       "      <td>NaN</td>\n",
       "      <td>NaN</td>\n",
       "      <td>NaN</td>\n",
       "      <td>NaN</td>\n",
       "      <td>NaN</td>\n",
       "      <td>NaN</td>\n",
       "      <td>NaN</td>\n",
       "      <td>NaN</td>\n",
       "      <td>NaN</td>\n",
       "    </tr>\n",
       "    <tr>\n",
       "      <th>04101Brewer</th>\n",
       "      <td>NaN</td>\n",
       "      <td>NaN</td>\n",
       "      <td>NaN</td>\n",
       "      <td>NaN</td>\n",
       "      <td>NaN</td>\n",
       "      <td>NaN</td>\n",
       "      <td>NaN</td>\n",
       "      <td>NaN</td>\n",
       "      <td>NaN</td>\n",
       "      <td>NaN</td>\n",
       "      <td>...</td>\n",
       "      <td>NaN</td>\n",
       "      <td>NaN</td>\n",
       "      <td>NaN</td>\n",
       "      <td>NaN</td>\n",
       "      <td>NaN</td>\n",
       "      <td>NaN</td>\n",
       "      <td>NaN</td>\n",
       "      <td>NaN</td>\n",
       "      <td>NaN</td>\n",
       "      <td>NaN</td>\n",
       "    </tr>\n",
       "    <tr>\n",
       "      <th>05Harley</th>\n",
       "      <td>NaN</td>\n",
       "      <td>NaN</td>\n",
       "      <td>NaN</td>\n",
       "      <td>NaN</td>\n",
       "      <td>NaN</td>\n",
       "      <td>NaN</td>\n",
       "      <td>NaN</td>\n",
       "      <td>NaN</td>\n",
       "      <td>NaN</td>\n",
       "      <td>NaN</td>\n",
       "      <td>...</td>\n",
       "      <td>NaN</td>\n",
       "      <td>NaN</td>\n",
       "      <td>NaN</td>\n",
       "      <td>NaN</td>\n",
       "      <td>NaN</td>\n",
       "      <td>NaN</td>\n",
       "      <td>NaN</td>\n",
       "      <td>NaN</td>\n",
       "      <td>NaN</td>\n",
       "      <td>NaN</td>\n",
       "    </tr>\n",
       "    <tr>\n",
       "      <th>0beerguy0</th>\n",
       "      <td>NaN</td>\n",
       "      <td>NaN</td>\n",
       "      <td>NaN</td>\n",
       "      <td>NaN</td>\n",
       "      <td>NaN</td>\n",
       "      <td>NaN</td>\n",
       "      <td>NaN</td>\n",
       "      <td>NaN</td>\n",
       "      <td>NaN</td>\n",
       "      <td>NaN</td>\n",
       "      <td>...</td>\n",
       "      <td>NaN</td>\n",
       "      <td>NaN</td>\n",
       "      <td>NaN</td>\n",
       "      <td>NaN</td>\n",
       "      <td>NaN</td>\n",
       "      <td>NaN</td>\n",
       "      <td>NaN</td>\n",
       "      <td>NaN</td>\n",
       "      <td>NaN</td>\n",
       "      <td>NaN</td>\n",
       "    </tr>\n",
       "  </tbody>\n",
       "</table>\n",
       "<p>5 rows × 3057 columns</p>\n",
       "</div>"
      ],
      "text/plain": [
       "beer_beerid         5      6      7      9      10     14     15     17     \\\n",
       "review_profilename                                                           \n",
       "0110x011              NaN    NaN    NaN    NaN    NaN    NaN    NaN    NaN   \n",
       "01Ryan10              NaN    NaN    NaN    NaN    NaN    NaN    NaN    NaN   \n",
       "04101Brewer           NaN    NaN    NaN    NaN    NaN    NaN    NaN    NaN   \n",
       "05Harley              NaN    NaN    NaN    NaN    NaN    NaN    NaN    NaN   \n",
       "0beerguy0             NaN    NaN    NaN    NaN    NaN    NaN    NaN    NaN   \n",
       "\n",
       "beer_beerid         19     23     ...    74323  74390  74530  74548  74579  \\\n",
       "review_profilename                ...                                        \n",
       "0110x011              NaN    NaN  ...      NaN    NaN    NaN    NaN    NaN   \n",
       "01Ryan10              NaN    NaN  ...      NaN    NaN    NaN    NaN    NaN   \n",
       "04101Brewer           NaN    NaN  ...      NaN    NaN    NaN    NaN    NaN   \n",
       "05Harley              NaN    NaN  ...      NaN    NaN    NaN    NaN    NaN   \n",
       "0beerguy0             NaN    NaN  ...      NaN    NaN    NaN    NaN    NaN   \n",
       "\n",
       "beer_beerid         74827  74904  74986  75013  75086  \n",
       "review_profilename                                     \n",
       "0110x011              NaN    NaN    NaN    NaN    NaN  \n",
       "01Ryan10              NaN    NaN    NaN    NaN    NaN  \n",
       "04101Brewer           NaN    NaN    NaN    NaN    NaN  \n",
       "05Harley              NaN    NaN    NaN    NaN    NaN  \n",
       "0beerguy0             NaN    NaN    NaN    NaN    NaN  \n",
       "\n",
       "[5 rows x 3057 columns]"
      ]
     },
     "execution_count": 45,
     "metadata": {},
     "output_type": "execute_result"
    }
   ],
   "source": [
    "df_subtracted.head()"
   ]
  },
  {
   "cell_type": "markdown",
   "metadata": {},
   "source": [
    "### Finding cosine similarity"
   ]
  },
  {
   "cell_type": "code",
   "execution_count": 46,
   "metadata": {},
   "outputs": [
    {
     "name": "stdout",
     "output_type": "stream",
     "text": [
      "[[ 1.  0.  0. ...,  0.  0.  0.]\n",
      " [ 0.  1.  0. ...,  0.  0.  0.]\n",
      " [ 0.  0.  1. ...,  0.  0.  0.]\n",
      " ..., \n",
      " [ 0.  0.  0. ...,  1.  0.  0.]\n",
      " [ 0.  0.  0. ...,  0.  1.  0.]\n",
      " [ 0.  0.  0. ...,  0.  0.  1.]]\n"
     ]
    }
   ],
   "source": [
    "from sklearn.metrics.pairwise import pairwise_distances\n",
    "\n",
    "# User Similarity Matrix\n",
    "user_correlation = 1 - pairwise_distances(df_subtracted.fillna(0), metric='cosine')\n",
    "user_correlation[np.isnan(user_correlation)] = 0\n",
    "print(user_correlation)"
   ]
  },
  {
   "cell_type": "code",
   "execution_count": 50,
   "metadata": {},
   "outputs": [
    {
     "data": {
      "image/png": "[encoded data removed]",
      "text/plain": [
       "<matplotlib.figure.Figure at 0x20c57d2d358>"
      ]
     },
     "metadata": {},
     "output_type": "display_data"
    }
   ],
   "source": [
    "# relation between top 10 users\n",
    "plt.figure(figsize=(10,8))\n",
    "sns.heatmap(pd.DataFrame(user_correlation).iloc[:10,:10], annot = True)\n",
    "plt.show()"
   ]
  },
  {
   "cell_type": "markdown",
   "metadata": {},
   "source": [
    "#### The correlation between the users shows:\n",
    "- user 4 is negatively correlated to user 1 and positively correlated to user 9\n",
    "- user 9 is negatively correlated to user 6"
   ]
  },
  {
   "cell_type": "markdown",
   "metadata": {},
   "source": [
    "### Prediction\n",
    "\n",
    "Doing the prediction for the users which are positively related with other users, and not the users which are negatively related as we are interested in the users which are more similar to the current users. So, ignoring the correlation for values less than 0. "
   ]
  },
  {
   "cell_type": "code",
   "execution_count": 51,
   "metadata": {},
   "outputs": [
    {
     "data": {
      "text/plain": [
       "array([[ 1.,  0.,  0., ...,  0.,  0.,  0.],\n",
       "       [ 0.,  1.,  0., ...,  0.,  0.,  0.],\n",
       "       [ 0.,  0.,  1., ...,  0.,  0.,  0.],\n",
       "       ..., \n",
       "       [ 0.,  0.,  0., ...,  1.,  0.,  0.],\n",
       "       [ 0.,  0.,  0., ...,  0.,  1.,  0.],\n",
       "       [ 0.,  0.,  0., ...,  0.,  0.,  1.]])"
      ]
     },
     "execution_count": 51,
     "metadata": {},
     "output_type": "execute_result"
    }
   ],
   "source": [
    "user_correlation[user_correlation<0]=0\n",
    "user_correlation"
   ]
  },
  {
   "cell_type": "code",
   "execution_count": 52,
   "metadata": {},
   "outputs": [
    {
     "name": "stdout",
     "output_type": "stream",
     "text": [
      "(17729, 17729)\n"
     ]
    }
   ],
   "source": [
    "print(user_correlation.shape)"
   ]
  },
  {
   "cell_type": "markdown",
   "metadata": {},
   "source": [
    "Rating predicted by the user (for beers rated as well as not rated) is the weighted sum of correlation with the beer rating (as present in the rating dataset)."
   ]
  },
  {
   "cell_type": "code",
   "execution_count": 53,
   "metadata": {},
   "outputs": [
    {
     "data": {
      "text/plain": [
       "array([[ 1.37153266,  2.50615176,  2.19609821, ...,  3.01990172,\n",
       "         1.82102835,  1.26312077],\n",
       "       [ 0.        ,  0.        ,  0.        , ...,  0.        ,\n",
       "         0.        ,  0.        ],\n",
       "       [ 0.        ,  0.        ,  0.        , ...,  0.        ,\n",
       "         0.        ,  0.        ],\n",
       "       ..., \n",
       "       [ 0.        ,  0.        ,  0.        , ...,  0.        ,\n",
       "         0.        ,  0.        ],\n",
       "       [ 0.        ,  0.        ,  0.        , ...,  0.        ,\n",
       "         0.        ,  0.        ],\n",
       "       [ 0.        ,  0.        ,  0.        , ...,  0.        ,\n",
       "         0.        ,  0.        ]])"
      ]
     },
     "execution_count": 53,
     "metadata": {},
     "output_type": "execute_result"
    }
   ],
   "source": [
    "user_predicted_ratings = np.dot(user_correlation, beer_features.fillna(0))\n",
    "user_predicted_ratings"
   ]
  },
  {
   "cell_type": "code",
   "execution_count": 54,
   "metadata": {},
   "outputs": [
    {
     "data": {
      "text/plain": [
       "(17729, 3057)"
      ]
     },
     "execution_count": 54,
     "metadata": {},
     "output_type": "execute_result"
    }
   ],
   "source": [
    "user_predicted_ratings.shape"
   ]
  },
  {
   "cell_type": "markdown",
   "metadata": {},
   "source": [
    "Since we are interested only in the movies not rated by the user, we will ignore the movies rated by the user by making it zero"
   ]
  },
  {
   "cell_type": "code",
   "execution_count": 55,
   "metadata": {},
   "outputs": [
    {
     "data": {
      "text/html": [
       "<div>\n",
       "<style>\n",
       "    .dataframe thead tr:only-child th {\n",
       "        text-align: right;\n",
       "    }\n",
       "\n",
       "    .dataframe thead th {\n",
       "        text-align: left;\n",
       "    }\n",
       "\n",
       "    .dataframe tbody tr th {\n",
       "        vertical-align: top;\n",
       "    }\n",
       "</style>\n",
       "<table border=\"1\" class=\"dataframe\">\n",
       "  <thead>\n",
       "    <tr style=\"text-align: right;\">\n",
       "      <th>beer_beerid</th>\n",
       "      <th>5</th>\n",
       "      <th>6</th>\n",
       "      <th>7</th>\n",
       "      <th>9</th>\n",
       "      <th>10</th>\n",
       "      <th>14</th>\n",
       "      <th>15</th>\n",
       "      <th>17</th>\n",
       "      <th>19</th>\n",
       "      <th>23</th>\n",
       "      <th>...</th>\n",
       "      <th>74323</th>\n",
       "      <th>74390</th>\n",
       "      <th>74530</th>\n",
       "      <th>74548</th>\n",
       "      <th>74579</th>\n",
       "      <th>74827</th>\n",
       "      <th>74904</th>\n",
       "      <th>74986</th>\n",
       "      <th>75013</th>\n",
       "      <th>75086</th>\n",
       "    </tr>\n",
       "    <tr>\n",
       "      <th>review_profilename</th>\n",
       "      <th></th>\n",
       "      <th></th>\n",
       "      <th></th>\n",
       "      <th></th>\n",
       "      <th></th>\n",
       "      <th></th>\n",
       "      <th></th>\n",
       "      <th></th>\n",
       "      <th></th>\n",
       "      <th></th>\n",
       "      <th></th>\n",
       "      <th></th>\n",
       "      <th></th>\n",
       "      <th></th>\n",
       "      <th></th>\n",
       "      <th></th>\n",
       "      <th></th>\n",
       "      <th></th>\n",
       "      <th></th>\n",
       "      <th></th>\n",
       "      <th></th>\n",
       "    </tr>\n",
       "  </thead>\n",
       "  <tbody>\n",
       "    <tr>\n",
       "      <th>0110x011</th>\n",
       "      <td>1.371533</td>\n",
       "      <td>2.506152</td>\n",
       "      <td>2.196098</td>\n",
       "      <td>0.202465</td>\n",
       "      <td>2.422793</td>\n",
       "      <td>0.402866</td>\n",
       "      <td>1.304350</td>\n",
       "      <td>1.781941</td>\n",
       "      <td>2.195640</td>\n",
       "      <td>0.283041</td>\n",
       "      <td>...</td>\n",
       "      <td>1.173845</td>\n",
       "      <td>1.222390</td>\n",
       "      <td>0.368979</td>\n",
       "      <td>0.636009</td>\n",
       "      <td>1.156714</td>\n",
       "      <td>1.414771</td>\n",
       "      <td>0.484664</td>\n",
       "      <td>3.019902</td>\n",
       "      <td>1.821028</td>\n",
       "      <td>1.263121</td>\n",
       "    </tr>\n",
       "    <tr>\n",
       "      <th>01Ryan10</th>\n",
       "      <td>0.000000</td>\n",
       "      <td>0.000000</td>\n",
       "      <td>0.000000</td>\n",
       "      <td>0.000000</td>\n",
       "      <td>0.000000</td>\n",
       "      <td>0.000000</td>\n",
       "      <td>0.000000</td>\n",
       "      <td>0.000000</td>\n",
       "      <td>0.000000</td>\n",
       "      <td>0.000000</td>\n",
       "      <td>...</td>\n",
       "      <td>0.000000</td>\n",
       "      <td>0.000000</td>\n",
       "      <td>0.000000</td>\n",
       "      <td>0.000000</td>\n",
       "      <td>0.000000</td>\n",
       "      <td>0.000000</td>\n",
       "      <td>0.000000</td>\n",
       "      <td>0.000000</td>\n",
       "      <td>0.000000</td>\n",
       "      <td>0.000000</td>\n",
       "    </tr>\n",
       "    <tr>\n",
       "      <th>04101Brewer</th>\n",
       "      <td>0.000000</td>\n",
       "      <td>0.000000</td>\n",
       "      <td>0.000000</td>\n",
       "      <td>0.000000</td>\n",
       "      <td>0.000000</td>\n",
       "      <td>0.000000</td>\n",
       "      <td>0.000000</td>\n",
       "      <td>0.000000</td>\n",
       "      <td>0.000000</td>\n",
       "      <td>0.000000</td>\n",
       "      <td>...</td>\n",
       "      <td>0.000000</td>\n",
       "      <td>0.000000</td>\n",
       "      <td>0.000000</td>\n",
       "      <td>0.000000</td>\n",
       "      <td>0.000000</td>\n",
       "      <td>0.000000</td>\n",
       "      <td>0.000000</td>\n",
       "      <td>0.000000</td>\n",
       "      <td>0.000000</td>\n",
       "      <td>0.000000</td>\n",
       "    </tr>\n",
       "    <tr>\n",
       "      <th>05Harley</th>\n",
       "      <td>1.349774</td>\n",
       "      <td>1.636160</td>\n",
       "      <td>1.706415</td>\n",
       "      <td>0.135548</td>\n",
       "      <td>1.567003</td>\n",
       "      <td>0.081477</td>\n",
       "      <td>0.235822</td>\n",
       "      <td>1.493895</td>\n",
       "      <td>1.460644</td>\n",
       "      <td>0.190818</td>\n",
       "      <td>...</td>\n",
       "      <td>0.611115</td>\n",
       "      <td>0.167742</td>\n",
       "      <td>0.684908</td>\n",
       "      <td>0.467648</td>\n",
       "      <td>0.523568</td>\n",
       "      <td>0.912065</td>\n",
       "      <td>0.404257</td>\n",
       "      <td>1.365308</td>\n",
       "      <td>0.317300</td>\n",
       "      <td>0.684587</td>\n",
       "    </tr>\n",
       "    <tr>\n",
       "      <th>0beerguy0</th>\n",
       "      <td>0.209950</td>\n",
       "      <td>1.420339</td>\n",
       "      <td>1.218591</td>\n",
       "      <td>0.000000</td>\n",
       "      <td>1.010182</td>\n",
       "      <td>0.055384</td>\n",
       "      <td>0.314691</td>\n",
       "      <td>0.366826</td>\n",
       "      <td>0.391068</td>\n",
       "      <td>0.225421</td>\n",
       "      <td>...</td>\n",
       "      <td>0.054173</td>\n",
       "      <td>0.000000</td>\n",
       "      <td>0.000000</td>\n",
       "      <td>0.000000</td>\n",
       "      <td>0.054173</td>\n",
       "      <td>0.000000</td>\n",
       "      <td>0.000000</td>\n",
       "      <td>0.000000</td>\n",
       "      <td>0.000000</td>\n",
       "      <td>0.131953</td>\n",
       "    </tr>\n",
       "  </tbody>\n",
       "</table>\n",
       "<p>5 rows × 3057 columns</p>\n",
       "</div>"
      ],
      "text/plain": [
       "beer_beerid            5         6         7         9         10     \\\n",
       "review_profilename                                                     \n",
       "0110x011            1.371533  2.506152  2.196098  0.202465  2.422793   \n",
       "01Ryan10            0.000000  0.000000  0.000000  0.000000  0.000000   \n",
       "04101Brewer         0.000000  0.000000  0.000000  0.000000  0.000000   \n",
       "05Harley            1.349774  1.636160  1.706415  0.135548  1.567003   \n",
       "0beerguy0           0.209950  1.420339  1.218591  0.000000  1.010182   \n",
       "\n",
       "beer_beerid            14        15        17        19        23     \\\n",
       "review_profilename                                                     \n",
       "0110x011            0.402866  1.304350  1.781941  2.195640  0.283041   \n",
       "01Ryan10            0.000000  0.000000  0.000000  0.000000  0.000000   \n",
       "04101Brewer         0.000000  0.000000  0.000000  0.000000  0.000000   \n",
       "05Harley            0.081477  0.235822  1.493895  1.460644  0.190818   \n",
       "0beerguy0           0.055384  0.314691  0.366826  0.391068  0.225421   \n",
       "\n",
       "beer_beerid           ...        74323     74390     74530     74548  \\\n",
       "review_profilename    ...                                              \n",
       "0110x011              ...     1.173845  1.222390  0.368979  0.636009   \n",
       "01Ryan10              ...     0.000000  0.000000  0.000000  0.000000   \n",
       "04101Brewer           ...     0.000000  0.000000  0.000000  0.000000   \n",
       "05Harley              ...     0.611115  0.167742  0.684908  0.467648   \n",
       "0beerguy0             ...     0.054173  0.000000  0.000000  0.000000   \n",
       "\n",
       "beer_beerid            74579     74827     74904     74986     75013     75086  \n",
       "review_profilename                                                              \n",
       "0110x011            1.156714  1.414771  0.484664  3.019902  1.821028  1.263121  \n",
       "01Ryan10            0.000000  0.000000  0.000000  0.000000  0.000000  0.000000  \n",
       "04101Brewer         0.000000  0.000000  0.000000  0.000000  0.000000  0.000000  \n",
       "05Harley            0.523568  0.912065  0.404257  1.365308  0.317300  0.684587  \n",
       "0beerguy0           0.054173  0.000000  0.000000  0.000000  0.000000  0.131953  \n",
       "\n",
       "[5 rows x 3057 columns]"
      ]
     },
     "execution_count": 55,
     "metadata": {},
     "output_type": "execute_result"
    }
   ],
   "source": [
    "user_final_rating = np.multiply(user_predicted_ratings,dummy_train)\n",
    "user_final_rating.head()"
   ]
  },
  {
   "cell_type": "markdown",
   "metadata": {},
   "source": [
    "### Finding the top 5 recommendation for the user 0"
   ]
  },
  {
   "cell_type": "code",
   "execution_count": 56,
   "metadata": {},
   "outputs": [
    {
     "data": {
      "text/plain": [
       "beer_beerid\n",
       "7971     19.772688\n",
       "19960    16.185350\n",
       "17112    16.124021\n",
       "11757    15.024889\n",
       "680      14.676183\n",
       "Name: 0110x011, dtype: float64"
      ]
     },
     "execution_count": 56,
     "metadata": {},
     "output_type": "execute_result"
    }
   ],
   "source": [
    "user_final_rating.iloc[0].sort_values(ascending=False)[0:5]"
   ]
  },
  {
   "cell_type": "code",
   "execution_count": 57,
   "metadata": {},
   "outputs": [
    {
     "data": {
      "text/html": [
       "<div>\n",
       "<style>\n",
       "    .dataframe thead tr:only-child th {\n",
       "        text-align: right;\n",
       "    }\n",
       "\n",
       "    .dataframe thead th {\n",
       "        text-align: left;\n",
       "    }\n",
       "\n",
       "    .dataframe tbody tr th {\n",
       "        vertical-align: top;\n",
       "    }\n",
       "</style>\n",
       "<table border=\"1\" class=\"dataframe\">\n",
       "  <thead>\n",
       "    <tr style=\"text-align: right;\">\n",
       "      <th>beer_beerid</th>\n",
       "      <th>5</th>\n",
       "      <th>6</th>\n",
       "      <th>7</th>\n",
       "      <th>9</th>\n",
       "      <th>10</th>\n",
       "      <th>14</th>\n",
       "      <th>15</th>\n",
       "      <th>17</th>\n",
       "      <th>19</th>\n",
       "      <th>23</th>\n",
       "      <th>...</th>\n",
       "      <th>74323</th>\n",
       "      <th>74390</th>\n",
       "      <th>74530</th>\n",
       "      <th>74548</th>\n",
       "      <th>74579</th>\n",
       "      <th>74827</th>\n",
       "      <th>74904</th>\n",
       "      <th>74986</th>\n",
       "      <th>75013</th>\n",
       "      <th>75086</th>\n",
       "    </tr>\n",
       "    <tr>\n",
       "      <th>review_profilename</th>\n",
       "      <th></th>\n",
       "      <th></th>\n",
       "      <th></th>\n",
       "      <th></th>\n",
       "      <th></th>\n",
       "      <th></th>\n",
       "      <th></th>\n",
       "      <th></th>\n",
       "      <th></th>\n",
       "      <th></th>\n",
       "      <th></th>\n",
       "      <th></th>\n",
       "      <th></th>\n",
       "      <th></th>\n",
       "      <th></th>\n",
       "      <th></th>\n",
       "      <th></th>\n",
       "      <th></th>\n",
       "      <th></th>\n",
       "      <th></th>\n",
       "      <th></th>\n",
       "    </tr>\n",
       "  </thead>\n",
       "  <tbody>\n",
       "    <tr>\n",
       "      <th>0110x011</th>\n",
       "      <td>1.371533</td>\n",
       "      <td>2.506152</td>\n",
       "      <td>2.196098</td>\n",
       "      <td>0.202465</td>\n",
       "      <td>2.422793</td>\n",
       "      <td>0.402866</td>\n",
       "      <td>1.304350</td>\n",
       "      <td>1.781941</td>\n",
       "      <td>2.195640</td>\n",
       "      <td>0.283041</td>\n",
       "      <td>...</td>\n",
       "      <td>1.173845</td>\n",
       "      <td>1.222390</td>\n",
       "      <td>0.368979</td>\n",
       "      <td>0.636009</td>\n",
       "      <td>1.156714</td>\n",
       "      <td>1.414771</td>\n",
       "      <td>0.484664</td>\n",
       "      <td>3.019902</td>\n",
       "      <td>1.821028</td>\n",
       "      <td>1.263121</td>\n",
       "    </tr>\n",
       "    <tr>\n",
       "      <th>01Ryan10</th>\n",
       "      <td>0.000000</td>\n",
       "      <td>0.000000</td>\n",
       "      <td>0.000000</td>\n",
       "      <td>0.000000</td>\n",
       "      <td>0.000000</td>\n",
       "      <td>0.000000</td>\n",
       "      <td>0.000000</td>\n",
       "      <td>0.000000</td>\n",
       "      <td>0.000000</td>\n",
       "      <td>0.000000</td>\n",
       "      <td>...</td>\n",
       "      <td>0.000000</td>\n",
       "      <td>0.000000</td>\n",
       "      <td>0.000000</td>\n",
       "      <td>0.000000</td>\n",
       "      <td>0.000000</td>\n",
       "      <td>0.000000</td>\n",
       "      <td>0.000000</td>\n",
       "      <td>0.000000</td>\n",
       "      <td>0.000000</td>\n",
       "      <td>0.000000</td>\n",
       "    </tr>\n",
       "    <tr>\n",
       "      <th>04101Brewer</th>\n",
       "      <td>0.000000</td>\n",
       "      <td>0.000000</td>\n",
       "      <td>0.000000</td>\n",
       "      <td>0.000000</td>\n",
       "      <td>0.000000</td>\n",
       "      <td>0.000000</td>\n",
       "      <td>0.000000</td>\n",
       "      <td>0.000000</td>\n",
       "      <td>0.000000</td>\n",
       "      <td>0.000000</td>\n",
       "      <td>...</td>\n",
       "      <td>0.000000</td>\n",
       "      <td>0.000000</td>\n",
       "      <td>0.000000</td>\n",
       "      <td>0.000000</td>\n",
       "      <td>0.000000</td>\n",
       "      <td>0.000000</td>\n",
       "      <td>0.000000</td>\n",
       "      <td>0.000000</td>\n",
       "      <td>0.000000</td>\n",
       "      <td>0.000000</td>\n",
       "    </tr>\n",
       "    <tr>\n",
       "      <th>05Harley</th>\n",
       "      <td>1.349774</td>\n",
       "      <td>1.636160</td>\n",
       "      <td>1.706415</td>\n",
       "      <td>0.135548</td>\n",
       "      <td>1.567003</td>\n",
       "      <td>0.081477</td>\n",
       "      <td>0.235822</td>\n",
       "      <td>1.493895</td>\n",
       "      <td>1.460644</td>\n",
       "      <td>0.190818</td>\n",
       "      <td>...</td>\n",
       "      <td>0.611115</td>\n",
       "      <td>0.167742</td>\n",
       "      <td>0.684908</td>\n",
       "      <td>0.467648</td>\n",
       "      <td>0.523568</td>\n",
       "      <td>0.912065</td>\n",
       "      <td>0.404257</td>\n",
       "      <td>1.365308</td>\n",
       "      <td>0.317300</td>\n",
       "      <td>0.684587</td>\n",
       "    </tr>\n",
       "    <tr>\n",
       "      <th>0beerguy0</th>\n",
       "      <td>0.209950</td>\n",
       "      <td>1.420339</td>\n",
       "      <td>1.218591</td>\n",
       "      <td>0.000000</td>\n",
       "      <td>1.010182</td>\n",
       "      <td>0.055384</td>\n",
       "      <td>0.314691</td>\n",
       "      <td>0.366826</td>\n",
       "      <td>0.391068</td>\n",
       "      <td>0.225421</td>\n",
       "      <td>...</td>\n",
       "      <td>0.054173</td>\n",
       "      <td>0.000000</td>\n",
       "      <td>0.000000</td>\n",
       "      <td>0.000000</td>\n",
       "      <td>0.054173</td>\n",
       "      <td>0.000000</td>\n",
       "      <td>0.000000</td>\n",
       "      <td>0.000000</td>\n",
       "      <td>0.000000</td>\n",
       "      <td>0.131953</td>\n",
       "    </tr>\n",
       "    <tr>\n",
       "      <th>0tt0</th>\n",
       "      <td>2.166611</td>\n",
       "      <td>6.067848</td>\n",
       "      <td>3.880327</td>\n",
       "      <td>0.124814</td>\n",
       "      <td>5.108318</td>\n",
       "      <td>0.753223</td>\n",
       "      <td>0.970255</td>\n",
       "      <td>5.126726</td>\n",
       "      <td>2.631641</td>\n",
       "      <td>1.433902</td>\n",
       "      <td>...</td>\n",
       "      <td>0.893504</td>\n",
       "      <td>0.809807</td>\n",
       "      <td>1.224679</td>\n",
       "      <td>1.618762</td>\n",
       "      <td>2.026164</td>\n",
       "      <td>1.272940</td>\n",
       "      <td>1.712171</td>\n",
       "      <td>6.654416</td>\n",
       "      <td>0.700246</td>\n",
       "      <td>2.039731</td>\n",
       "    </tr>\n",
       "    <tr>\n",
       "      <th>1000Bottles</th>\n",
       "      <td>0.424801</td>\n",
       "      <td>0.246169</td>\n",
       "      <td>1.227082</td>\n",
       "      <td>0.059150</td>\n",
       "      <td>1.371826</td>\n",
       "      <td>0.245271</td>\n",
       "      <td>0.552490</td>\n",
       "      <td>0.725012</td>\n",
       "      <td>0.683616</td>\n",
       "      <td>0.210440</td>\n",
       "      <td>...</td>\n",
       "      <td>0.498342</td>\n",
       "      <td>0.082133</td>\n",
       "      <td>0.237637</td>\n",
       "      <td>0.000000</td>\n",
       "      <td>0.208657</td>\n",
       "      <td>0.241520</td>\n",
       "      <td>0.000000</td>\n",
       "      <td>0.213778</td>\n",
       "      <td>0.028810</td>\n",
       "      <td>0.687008</td>\n",
       "    </tr>\n",
       "    <tr>\n",
       "      <th>1001111</th>\n",
       "      <td>0.000000</td>\n",
       "      <td>0.000000</td>\n",
       "      <td>0.000000</td>\n",
       "      <td>0.000000</td>\n",
       "      <td>0.000000</td>\n",
       "      <td>0.000000</td>\n",
       "      <td>0.000000</td>\n",
       "      <td>0.000000</td>\n",
       "      <td>0.000000</td>\n",
       "      <td>0.000000</td>\n",
       "      <td>...</td>\n",
       "      <td>0.000000</td>\n",
       "      <td>0.000000</td>\n",
       "      <td>0.000000</td>\n",
       "      <td>0.000000</td>\n",
       "      <td>0.000000</td>\n",
       "      <td>0.000000</td>\n",
       "      <td>0.000000</td>\n",
       "      <td>0.000000</td>\n",
       "      <td>0.000000</td>\n",
       "      <td>0.000000</td>\n",
       "    </tr>\n",
       "    <tr>\n",
       "      <th>100floods</th>\n",
       "      <td>0.862494</td>\n",
       "      <td>1.179925</td>\n",
       "      <td>1.116386</td>\n",
       "      <td>0.280089</td>\n",
       "      <td>2.500195</td>\n",
       "      <td>0.573530</td>\n",
       "      <td>0.450933</td>\n",
       "      <td>1.908211</td>\n",
       "      <td>1.074817</td>\n",
       "      <td>0.270103</td>\n",
       "      <td>...</td>\n",
       "      <td>0.824366</td>\n",
       "      <td>0.663853</td>\n",
       "      <td>1.878947</td>\n",
       "      <td>0.264643</td>\n",
       "      <td>0.582974</td>\n",
       "      <td>1.084698</td>\n",
       "      <td>0.200536</td>\n",
       "      <td>1.727891</td>\n",
       "      <td>0.755273</td>\n",
       "      <td>1.688214</td>\n",
       "    </tr>\n",
       "    <tr>\n",
       "      <th>1050Sudz</th>\n",
       "      <td>0.000000</td>\n",
       "      <td>0.000000</td>\n",
       "      <td>0.000000</td>\n",
       "      <td>0.000000</td>\n",
       "      <td>0.000000</td>\n",
       "      <td>0.000000</td>\n",
       "      <td>0.000000</td>\n",
       "      <td>0.000000</td>\n",
       "      <td>0.000000</td>\n",
       "      <td>0.000000</td>\n",
       "      <td>...</td>\n",
       "      <td>0.000000</td>\n",
       "      <td>0.000000</td>\n",
       "      <td>0.000000</td>\n",
       "      <td>0.000000</td>\n",
       "      <td>0.000000</td>\n",
       "      <td>0.000000</td>\n",
       "      <td>0.000000</td>\n",
       "      <td>0.000000</td>\n",
       "      <td>0.000000</td>\n",
       "      <td>0.000000</td>\n",
       "    </tr>\n",
       "  </tbody>\n",
       "</table>\n",
       "<p>10 rows × 3057 columns</p>\n",
       "</div>"
      ],
      "text/plain": [
       "beer_beerid            5         6         7         9         10     \\\n",
       "review_profilename                                                     \n",
       "0110x011            1.371533  2.506152  2.196098  0.202465  2.422793   \n",
       "01Ryan10            0.000000  0.000000  0.000000  0.000000  0.000000   \n",
       "04101Brewer         0.000000  0.000000  0.000000  0.000000  0.000000   \n",
       "05Harley            1.349774  1.636160  1.706415  0.135548  1.567003   \n",
       "0beerguy0           0.209950  1.420339  1.218591  0.000000  1.010182   \n",
       "0tt0                2.166611  6.067848  3.880327  0.124814  5.108318   \n",
       "1000Bottles         0.424801  0.246169  1.227082  0.059150  1.371826   \n",
       "1001111             0.000000  0.000000  0.000000  0.000000  0.000000   \n",
       "100floods           0.862494  1.179925  1.116386  0.280089  2.500195   \n",
       "1050Sudz            0.000000  0.000000  0.000000  0.000000  0.000000   \n",
       "\n",
       "beer_beerid            14        15        17        19        23     \\\n",
       "review_profilename                                                     \n",
       "0110x011            0.402866  1.304350  1.781941  2.195640  0.283041   \n",
       "01Ryan10            0.000000  0.000000  0.000000  0.000000  0.000000   \n",
       "04101Brewer         0.000000  0.000000  0.000000  0.000000  0.000000   \n",
       "05Harley            0.081477  0.235822  1.493895  1.460644  0.190818   \n",
       "0beerguy0           0.055384  0.314691  0.366826  0.391068  0.225421   \n",
       "0tt0                0.753223  0.970255  5.126726  2.631641  1.433902   \n",
       "1000Bottles         0.245271  0.552490  0.725012  0.683616  0.210440   \n",
       "1001111             0.000000  0.000000  0.000000  0.000000  0.000000   \n",
       "100floods           0.573530  0.450933  1.908211  1.074817  0.270103   \n",
       "1050Sudz            0.000000  0.000000  0.000000  0.000000  0.000000   \n",
       "\n",
       "beer_beerid           ...        74323     74390     74530     74548  \\\n",
       "review_profilename    ...                                              \n",
       "0110x011              ...     1.173845  1.222390  0.368979  0.636009   \n",
       "01Ryan10              ...     0.000000  0.000000  0.000000  0.000000   \n",
       "04101Brewer           ...     0.000000  0.000000  0.000000  0.000000   \n",
       "05Harley              ...     0.611115  0.167742  0.684908  0.467648   \n",
       "0beerguy0             ...     0.054173  0.000000  0.000000  0.000000   \n",
       "0tt0                  ...     0.893504  0.809807  1.224679  1.618762   \n",
       "1000Bottles           ...     0.498342  0.082133  0.237637  0.000000   \n",
       "1001111               ...     0.000000  0.000000  0.000000  0.000000   \n",
       "100floods             ...     0.824366  0.663853  1.878947  0.264643   \n",
       "1050Sudz              ...     0.000000  0.000000  0.000000  0.000000   \n",
       "\n",
       "beer_beerid            74579     74827     74904     74986     75013     75086  \n",
       "review_profilename                                                              \n",
       "0110x011            1.156714  1.414771  0.484664  3.019902  1.821028  1.263121  \n",
       "01Ryan10            0.000000  0.000000  0.000000  0.000000  0.000000  0.000000  \n",
       "04101Brewer         0.000000  0.000000  0.000000  0.000000  0.000000  0.000000  \n",
       "05Harley            0.523568  0.912065  0.404257  1.365308  0.317300  0.684587  \n",
       "0beerguy0           0.054173  0.000000  0.000000  0.000000  0.000000  0.131953  \n",
       "0tt0                2.026164  1.272940  1.712171  6.654416  0.700246  2.039731  \n",
       "1000Bottles         0.208657  0.241520  0.000000  0.213778  0.028810  0.687008  \n",
       "1001111             0.000000  0.000000  0.000000  0.000000  0.000000  0.000000  \n",
       "100floods           0.582974  1.084698  0.200536  1.727891  0.755273  1.688214  \n",
       "1050Sudz            0.000000  0.000000  0.000000  0.000000  0.000000  0.000000  \n",
       "\n",
       "[10 rows x 3057 columns]"
      ]
     },
     "execution_count": 57,
     "metadata": {},
     "output_type": "execute_result"
    }
   ],
   "source": [
    "user_final_rating[:10]"
   ]
  },
  {
   "cell_type": "markdown",
   "metadata": {},
   "source": [
    "### Item Based Similarity"
   ]
  },
  {
   "cell_type": "markdown",
   "metadata": {},
   "source": [
    "#### Using Correlation\n",
    "\n",
    "Taking the transpose of the rating matrix to normalize the rating around the mean for different beer ID. In the user based similarity, we had taken mean for each user intead of each beer. "
   ]
  },
  {
   "cell_type": "code",
   "execution_count": 58,
   "metadata": {},
   "outputs": [
    {
     "data": {
      "text/html": [
       "<div>\n",
       "<style>\n",
       "    .dataframe thead tr:only-child th {\n",
       "        text-align: right;\n",
       "    }\n",
       "\n",
       "    .dataframe thead th {\n",
       "        text-align: left;\n",
       "    }\n",
       "\n",
       "    .dataframe tbody tr th {\n",
       "        vertical-align: top;\n",
       "    }\n",
       "</style>\n",
       "<table border=\"1\" class=\"dataframe\">\n",
       "  <thead>\n",
       "    <tr style=\"text-align: right;\">\n",
       "      <th>review_profilename</th>\n",
       "      <th>0110x011</th>\n",
       "      <th>01Ryan10</th>\n",
       "      <th>04101Brewer</th>\n",
       "      <th>05Harley</th>\n",
       "      <th>0beerguy0</th>\n",
       "      <th>0tt0</th>\n",
       "      <th>1000Bottles</th>\n",
       "      <th>1001111</th>\n",
       "      <th>100floods</th>\n",
       "      <th>1050Sudz</th>\n",
       "      <th>...</th>\n",
       "      <th>zulufactor</th>\n",
       "      <th>zumicroom</th>\n",
       "      <th>zwalk8</th>\n",
       "      <th>zwan</th>\n",
       "      <th>zymrgy</th>\n",
       "      <th>zymurgy4all</th>\n",
       "      <th>zymurgywhiz</th>\n",
       "      <th>zythus</th>\n",
       "      <th>zyzygy</th>\n",
       "      <th>zzajjber</th>\n",
       "    </tr>\n",
       "    <tr>\n",
       "      <th>beer_beerid</th>\n",
       "      <th></th>\n",
       "      <th></th>\n",
       "      <th></th>\n",
       "      <th></th>\n",
       "      <th></th>\n",
       "      <th></th>\n",
       "      <th></th>\n",
       "      <th></th>\n",
       "      <th></th>\n",
       "      <th></th>\n",
       "      <th></th>\n",
       "      <th></th>\n",
       "      <th></th>\n",
       "      <th></th>\n",
       "      <th></th>\n",
       "      <th></th>\n",
       "      <th></th>\n",
       "      <th></th>\n",
       "      <th></th>\n",
       "      <th></th>\n",
       "      <th></th>\n",
       "    </tr>\n",
       "  </thead>\n",
       "  <tbody>\n",
       "    <tr>\n",
       "      <th>5</th>\n",
       "      <td>NaN</td>\n",
       "      <td>NaN</td>\n",
       "      <td>NaN</td>\n",
       "      <td>NaN</td>\n",
       "      <td>NaN</td>\n",
       "      <td>NaN</td>\n",
       "      <td>NaN</td>\n",
       "      <td>NaN</td>\n",
       "      <td>NaN</td>\n",
       "      <td>NaN</td>\n",
       "      <td>...</td>\n",
       "      <td>NaN</td>\n",
       "      <td>NaN</td>\n",
       "      <td>NaN</td>\n",
       "      <td>NaN</td>\n",
       "      <td>NaN</td>\n",
       "      <td>NaN</td>\n",
       "      <td>NaN</td>\n",
       "      <td>NaN</td>\n",
       "      <td>NaN</td>\n",
       "      <td>NaN</td>\n",
       "    </tr>\n",
       "    <tr>\n",
       "      <th>6</th>\n",
       "      <td>NaN</td>\n",
       "      <td>NaN</td>\n",
       "      <td>NaN</td>\n",
       "      <td>NaN</td>\n",
       "      <td>NaN</td>\n",
       "      <td>NaN</td>\n",
       "      <td>NaN</td>\n",
       "      <td>NaN</td>\n",
       "      <td>NaN</td>\n",
       "      <td>NaN</td>\n",
       "      <td>...</td>\n",
       "      <td>NaN</td>\n",
       "      <td>NaN</td>\n",
       "      <td>NaN</td>\n",
       "      <td>NaN</td>\n",
       "      <td>NaN</td>\n",
       "      <td>NaN</td>\n",
       "      <td>NaN</td>\n",
       "      <td>NaN</td>\n",
       "      <td>NaN</td>\n",
       "      <td>NaN</td>\n",
       "    </tr>\n",
       "    <tr>\n",
       "      <th>7</th>\n",
       "      <td>NaN</td>\n",
       "      <td>NaN</td>\n",
       "      <td>NaN</td>\n",
       "      <td>NaN</td>\n",
       "      <td>NaN</td>\n",
       "      <td>NaN</td>\n",
       "      <td>NaN</td>\n",
       "      <td>NaN</td>\n",
       "      <td>NaN</td>\n",
       "      <td>NaN</td>\n",
       "      <td>...</td>\n",
       "      <td>NaN</td>\n",
       "      <td>NaN</td>\n",
       "      <td>NaN</td>\n",
       "      <td>NaN</td>\n",
       "      <td>NaN</td>\n",
       "      <td>NaN</td>\n",
       "      <td>NaN</td>\n",
       "      <td>NaN</td>\n",
       "      <td>NaN</td>\n",
       "      <td>NaN</td>\n",
       "    </tr>\n",
       "    <tr>\n",
       "      <th>9</th>\n",
       "      <td>NaN</td>\n",
       "      <td>NaN</td>\n",
       "      <td>NaN</td>\n",
       "      <td>NaN</td>\n",
       "      <td>NaN</td>\n",
       "      <td>NaN</td>\n",
       "      <td>NaN</td>\n",
       "      <td>NaN</td>\n",
       "      <td>NaN</td>\n",
       "      <td>NaN</td>\n",
       "      <td>...</td>\n",
       "      <td>NaN</td>\n",
       "      <td>NaN</td>\n",
       "      <td>NaN</td>\n",
       "      <td>NaN</td>\n",
       "      <td>NaN</td>\n",
       "      <td>NaN</td>\n",
       "      <td>NaN</td>\n",
       "      <td>NaN</td>\n",
       "      <td>NaN</td>\n",
       "      <td>NaN</td>\n",
       "    </tr>\n",
       "    <tr>\n",
       "      <th>10</th>\n",
       "      <td>NaN</td>\n",
       "      <td>NaN</td>\n",
       "      <td>NaN</td>\n",
       "      <td>NaN</td>\n",
       "      <td>NaN</td>\n",
       "      <td>NaN</td>\n",
       "      <td>NaN</td>\n",
       "      <td>NaN</td>\n",
       "      <td>NaN</td>\n",
       "      <td>NaN</td>\n",
       "      <td>...</td>\n",
       "      <td>NaN</td>\n",
       "      <td>NaN</td>\n",
       "      <td>NaN</td>\n",
       "      <td>NaN</td>\n",
       "      <td>NaN</td>\n",
       "      <td>NaN</td>\n",
       "      <td>NaN</td>\n",
       "      <td>NaN</td>\n",
       "      <td>NaN</td>\n",
       "      <td>NaN</td>\n",
       "    </tr>\n",
       "  </tbody>\n",
       "</table>\n",
       "<p>5 rows × 17729 columns</p>\n",
       "</div>"
      ],
      "text/plain": [
       "review_profilename  0110x011  01Ryan10  04101Brewer  05Harley  0beerguy0  \\\n",
       "beer_beerid                                                                \n",
       "5                        NaN       NaN          NaN       NaN        NaN   \n",
       "6                        NaN       NaN          NaN       NaN        NaN   \n",
       "7                        NaN       NaN          NaN       NaN        NaN   \n",
       "9                        NaN       NaN          NaN       NaN        NaN   \n",
       "10                       NaN       NaN          NaN       NaN        NaN   \n",
       "\n",
       "review_profilename  0tt0  1000Bottles  1001111  100floods  1050Sudz    ...     \\\n",
       "beer_beerid                                                            ...      \n",
       "5                    NaN          NaN      NaN        NaN       NaN    ...      \n",
       "6                    NaN          NaN      NaN        NaN       NaN    ...      \n",
       "7                    NaN          NaN      NaN        NaN       NaN    ...      \n",
       "9                    NaN          NaN      NaN        NaN       NaN    ...      \n",
       "10                   NaN          NaN      NaN        NaN       NaN    ...      \n",
       "\n",
       "review_profilename  zulufactor  zumicroom  zwalk8  zwan  zymrgy  zymurgy4all  \\\n",
       "beer_beerid                                                                    \n",
       "5                          NaN        NaN     NaN   NaN     NaN          NaN   \n",
       "6                          NaN        NaN     NaN   NaN     NaN          NaN   \n",
       "7                          NaN        NaN     NaN   NaN     NaN          NaN   \n",
       "9                          NaN        NaN     NaN   NaN     NaN          NaN   \n",
       "10                         NaN        NaN     NaN   NaN     NaN          NaN   \n",
       "\n",
       "review_profilename  zymurgywhiz  zythus  zyzygy  zzajjber  \n",
       "beer_beerid                                                \n",
       "5                           NaN     NaN     NaN       NaN  \n",
       "6                           NaN     NaN     NaN       NaN  \n",
       "7                           NaN     NaN     NaN       NaN  \n",
       "9                           NaN     NaN     NaN       NaN  \n",
       "10                          NaN     NaN     NaN       NaN  \n",
       "\n",
       "[5 rows x 17729 columns]"
      ]
     },
     "execution_count": 58,
     "metadata": {},
     "output_type": "execute_result"
    }
   ],
   "source": [
    "beer_features = train.pivot(\n",
    "    index='review_profilename',\n",
    "    columns='beer_beerid',\n",
    "    values='review_overall'\n",
    ").T\n",
    "\n",
    "beer_features.head()"
   ]
  },
  {
   "cell_type": "code",
   "execution_count": 59,
   "metadata": {
    "collapsed": true
   },
   "outputs": [],
   "source": [
    "mean = np.nanmean(beer_features, axis=1)\n",
    "df_subtracted = (beer_features.T-mean).T"
   ]
  },
  {
   "cell_type": "code",
   "execution_count": 60,
   "metadata": {},
   "outputs": [
    {
     "data": {
      "text/html": [
       "<div>\n",
       "<style>\n",
       "    .dataframe thead tr:only-child th {\n",
       "        text-align: right;\n",
       "    }\n",
       "\n",
       "    .dataframe thead th {\n",
       "        text-align: left;\n",
       "    }\n",
       "\n",
       "    .dataframe tbody tr th {\n",
       "        vertical-align: top;\n",
       "    }\n",
       "</style>\n",
       "<table border=\"1\" class=\"dataframe\">\n",
       "  <thead>\n",
       "    <tr style=\"text-align: right;\">\n",
       "      <th>review_profilename</th>\n",
       "      <th>0110x011</th>\n",
       "      <th>01Ryan10</th>\n",
       "      <th>04101Brewer</th>\n",
       "      <th>05Harley</th>\n",
       "      <th>0beerguy0</th>\n",
       "      <th>0tt0</th>\n",
       "      <th>1000Bottles</th>\n",
       "      <th>1001111</th>\n",
       "      <th>100floods</th>\n",
       "      <th>1050Sudz</th>\n",
       "      <th>...</th>\n",
       "      <th>zulufactor</th>\n",
       "      <th>zumicroom</th>\n",
       "      <th>zwalk8</th>\n",
       "      <th>zwan</th>\n",
       "      <th>zymrgy</th>\n",
       "      <th>zymurgy4all</th>\n",
       "      <th>zymurgywhiz</th>\n",
       "      <th>zythus</th>\n",
       "      <th>zyzygy</th>\n",
       "      <th>zzajjber</th>\n",
       "    </tr>\n",
       "    <tr>\n",
       "      <th>beer_beerid</th>\n",
       "      <th></th>\n",
       "      <th></th>\n",
       "      <th></th>\n",
       "      <th></th>\n",
       "      <th></th>\n",
       "      <th></th>\n",
       "      <th></th>\n",
       "      <th></th>\n",
       "      <th></th>\n",
       "      <th></th>\n",
       "      <th></th>\n",
       "      <th></th>\n",
       "      <th></th>\n",
       "      <th></th>\n",
       "      <th></th>\n",
       "      <th></th>\n",
       "      <th></th>\n",
       "      <th></th>\n",
       "      <th></th>\n",
       "      <th></th>\n",
       "      <th></th>\n",
       "    </tr>\n",
       "  </thead>\n",
       "  <tbody>\n",
       "    <tr>\n",
       "      <th>5</th>\n",
       "      <td>NaN</td>\n",
       "      <td>NaN</td>\n",
       "      <td>NaN</td>\n",
       "      <td>NaN</td>\n",
       "      <td>NaN</td>\n",
       "      <td>NaN</td>\n",
       "      <td>NaN</td>\n",
       "      <td>NaN</td>\n",
       "      <td>NaN</td>\n",
       "      <td>NaN</td>\n",
       "      <td>...</td>\n",
       "      <td>NaN</td>\n",
       "      <td>NaN</td>\n",
       "      <td>NaN</td>\n",
       "      <td>NaN</td>\n",
       "      <td>NaN</td>\n",
       "      <td>NaN</td>\n",
       "      <td>NaN</td>\n",
       "      <td>NaN</td>\n",
       "      <td>NaN</td>\n",
       "      <td>NaN</td>\n",
       "    </tr>\n",
       "    <tr>\n",
       "      <th>6</th>\n",
       "      <td>NaN</td>\n",
       "      <td>NaN</td>\n",
       "      <td>NaN</td>\n",
       "      <td>NaN</td>\n",
       "      <td>NaN</td>\n",
       "      <td>NaN</td>\n",
       "      <td>NaN</td>\n",
       "      <td>NaN</td>\n",
       "      <td>NaN</td>\n",
       "      <td>NaN</td>\n",
       "      <td>...</td>\n",
       "      <td>NaN</td>\n",
       "      <td>NaN</td>\n",
       "      <td>NaN</td>\n",
       "      <td>NaN</td>\n",
       "      <td>NaN</td>\n",
       "      <td>NaN</td>\n",
       "      <td>NaN</td>\n",
       "      <td>NaN</td>\n",
       "      <td>NaN</td>\n",
       "      <td>NaN</td>\n",
       "    </tr>\n",
       "    <tr>\n",
       "      <th>7</th>\n",
       "      <td>NaN</td>\n",
       "      <td>NaN</td>\n",
       "      <td>NaN</td>\n",
       "      <td>NaN</td>\n",
       "      <td>NaN</td>\n",
       "      <td>NaN</td>\n",
       "      <td>NaN</td>\n",
       "      <td>NaN</td>\n",
       "      <td>NaN</td>\n",
       "      <td>NaN</td>\n",
       "      <td>...</td>\n",
       "      <td>NaN</td>\n",
       "      <td>NaN</td>\n",
       "      <td>NaN</td>\n",
       "      <td>NaN</td>\n",
       "      <td>NaN</td>\n",
       "      <td>NaN</td>\n",
       "      <td>NaN</td>\n",
       "      <td>NaN</td>\n",
       "      <td>NaN</td>\n",
       "      <td>NaN</td>\n",
       "    </tr>\n",
       "    <tr>\n",
       "      <th>9</th>\n",
       "      <td>NaN</td>\n",
       "      <td>NaN</td>\n",
       "      <td>NaN</td>\n",
       "      <td>NaN</td>\n",
       "      <td>NaN</td>\n",
       "      <td>NaN</td>\n",
       "      <td>NaN</td>\n",
       "      <td>NaN</td>\n",
       "      <td>NaN</td>\n",
       "      <td>NaN</td>\n",
       "      <td>...</td>\n",
       "      <td>NaN</td>\n",
       "      <td>NaN</td>\n",
       "      <td>NaN</td>\n",
       "      <td>NaN</td>\n",
       "      <td>NaN</td>\n",
       "      <td>NaN</td>\n",
       "      <td>NaN</td>\n",
       "      <td>NaN</td>\n",
       "      <td>NaN</td>\n",
       "      <td>NaN</td>\n",
       "    </tr>\n",
       "    <tr>\n",
       "      <th>10</th>\n",
       "      <td>NaN</td>\n",
       "      <td>NaN</td>\n",
       "      <td>NaN</td>\n",
       "      <td>NaN</td>\n",
       "      <td>NaN</td>\n",
       "      <td>NaN</td>\n",
       "      <td>NaN</td>\n",
       "      <td>NaN</td>\n",
       "      <td>NaN</td>\n",
       "      <td>NaN</td>\n",
       "      <td>...</td>\n",
       "      <td>NaN</td>\n",
       "      <td>NaN</td>\n",
       "      <td>NaN</td>\n",
       "      <td>NaN</td>\n",
       "      <td>NaN</td>\n",
       "      <td>NaN</td>\n",
       "      <td>NaN</td>\n",
       "      <td>NaN</td>\n",
       "      <td>NaN</td>\n",
       "      <td>NaN</td>\n",
       "    </tr>\n",
       "  </tbody>\n",
       "</table>\n",
       "<p>5 rows × 17729 columns</p>\n",
       "</div>"
      ],
      "text/plain": [
       "review_profilename  0110x011  01Ryan10  04101Brewer  05Harley  0beerguy0  \\\n",
       "beer_beerid                                                                \n",
       "5                        NaN       NaN          NaN       NaN        NaN   \n",
       "6                        NaN       NaN          NaN       NaN        NaN   \n",
       "7                        NaN       NaN          NaN       NaN        NaN   \n",
       "9                        NaN       NaN          NaN       NaN        NaN   \n",
       "10                       NaN       NaN          NaN       NaN        NaN   \n",
       "\n",
       "review_profilename  0tt0  1000Bottles  1001111  100floods  1050Sudz    ...     \\\n",
       "beer_beerid                                                            ...      \n",
       "5                    NaN          NaN      NaN        NaN       NaN    ...      \n",
       "6                    NaN          NaN      NaN        NaN       NaN    ...      \n",
       "7                    NaN          NaN      NaN        NaN       NaN    ...      \n",
       "9                    NaN          NaN      NaN        NaN       NaN    ...      \n",
       "10                   NaN          NaN      NaN        NaN       NaN    ...      \n",
       "\n",
       "review_profilename  zulufactor  zumicroom  zwalk8  zwan  zymrgy  zymurgy4all  \\\n",
       "beer_beerid                                                                    \n",
       "5                          NaN        NaN     NaN   NaN     NaN          NaN   \n",
       "6                          NaN        NaN     NaN   NaN     NaN          NaN   \n",
       "7                          NaN        NaN     NaN   NaN     NaN          NaN   \n",
       "9                          NaN        NaN     NaN   NaN     NaN          NaN   \n",
       "10                         NaN        NaN     NaN   NaN     NaN          NaN   \n",
       "\n",
       "review_profilename  zymurgywhiz  zythus  zyzygy  zzajjber  \n",
       "beer_beerid                                                \n",
       "5                           NaN     NaN     NaN       NaN  \n",
       "6                           NaN     NaN     NaN       NaN  \n",
       "7                           NaN     NaN     NaN       NaN  \n",
       "9                           NaN     NaN     NaN       NaN  \n",
       "10                          NaN     NaN     NaN       NaN  \n",
       "\n",
       "[5 rows x 17729 columns]"
      ]
     },
     "execution_count": 60,
     "metadata": {},
     "output_type": "execute_result"
    }
   ],
   "source": [
    "df_subtracted.head()"
   ]
  },
  {
   "cell_type": "markdown",
   "metadata": {},
   "source": [
    "Finding the cosine similarity. Note that since the data is normalised, both the cosine metric and correlation metric will give the same value."
   ]
  },
  {
   "cell_type": "code",
   "execution_count": 61,
   "metadata": {},
   "outputs": [
    {
     "name": "stdout",
     "output_type": "stream",
     "text": [
      "[[ 1.         -0.01907412  0.01172759 ...,  0.01437829 -0.03181885\n",
      "  -0.00172232]\n",
      " [-0.01907412  1.          0.01468032 ...,  0.          0.         -0.00626686]\n",
      " [ 0.01172759  0.01468032  1.         ...,  0.00336027  0.          0.        ]\n",
      " ..., \n",
      " [ 0.01437829  0.          0.00336027 ...,  1.          0.00823288\n",
      "  -0.00269687]\n",
      " [-0.03181885  0.          0.         ...,  0.00823288  1.         -0.1011224 ]\n",
      " [-0.00172232 -0.00626686  0.         ..., -0.00269687 -0.1011224   1.        ]]\n"
     ]
    }
   ],
   "source": [
    "from sklearn.metrics.pairwise import pairwise_distances\n",
    "\n",
    "# User Similarity Matrix\n",
    "item_correlation = 1 - pairwise_distances(df_subtracted.fillna(0), metric='cosine')\n",
    "item_correlation[np.isnan(item_correlation)] = 0\n",
    "print(item_correlation)"
   ]
  },
  {
   "cell_type": "code",
   "execution_count": 62,
   "metadata": {},
   "outputs": [
    {
     "data": {
      "image/png": "[encoded data removed]",
      "text/plain": [
       "<matplotlib.figure.Figure at 0x20c57a33fd0>"
      ]
     },
     "metadata": {},
     "output_type": "display_data"
    }
   ],
   "source": [
    "# relation between top 10 items\n",
    "plt.figure(figsize=(10,8))\n",
    "sns.heatmap(pd.DataFrame(item_correlation).iloc[:10,:10], annot = True)\n",
    "plt.show()"
   ]
  },
  {
   "cell_type": "markdown",
   "metadata": {},
   "source": [
    "#### The correlation between 10 items shows:\n",
    "- item 9 is correlated to user 1 to user 8"
   ]
  },
  {
   "cell_type": "markdown",
   "metadata": {},
   "source": [
    "Filtering the correlation only for which the value is greater than 0. (Positively correlated)"
   ]
  },
  {
   "cell_type": "code",
   "execution_count": 63,
   "metadata": {},
   "outputs": [
    {
     "data": {
      "text/plain": [
       "array([[ 1.        ,  0.        ,  0.01172759, ...,  0.01437829,\n",
       "         0.        ,  0.        ],\n",
       "       [ 0.        ,  1.        ,  0.01468032, ...,  0.        ,\n",
       "         0.        ,  0.        ],\n",
       "       [ 0.01172759,  0.01468032,  1.        , ...,  0.00336027,\n",
       "         0.        ,  0.        ],\n",
       "       ..., \n",
       "       [ 0.01437829,  0.        ,  0.00336027, ...,  1.        ,\n",
       "         0.00823288,  0.        ],\n",
       "       [ 0.        ,  0.        ,  0.        , ...,  0.00823288,\n",
       "         1.        ,  0.        ],\n",
       "       [ 0.        ,  0.        ,  0.        , ...,  0.        ,\n",
       "         0.        ,  1.        ]])"
      ]
     },
     "execution_count": 63,
     "metadata": {},
     "output_type": "execute_result"
    }
   ],
   "source": [
    "item_correlation[item_correlation<0]=0\n",
    "item_correlation"
   ]
  },
  {
   "cell_type": "markdown",
   "metadata": {},
   "source": [
    "### Prediction"
   ]
  },
  {
   "cell_type": "code",
   "execution_count": 64,
   "metadata": {},
   "outputs": [
    {
     "data": {
      "text/plain": [
       "array([[  3.38567952e-01,   6.98817753e-01,   4.59123578e-01, ...,\n",
       "          3.12086452e-01,   2.42117989e+00,   5.37265447e-01],\n",
       "       [  0.00000000e+00,   0.00000000e+00,   7.57651655e-02, ...,\n",
       "          1.20724326e-01,   0.00000000e+00,   3.03569257e-02],\n",
       "       [  0.00000000e+00,   0.00000000e+00,   5.73021673e-02, ...,\n",
       "          0.00000000e+00,   0.00000000e+00,   8.99681171e-02],\n",
       "       ..., \n",
       "       [  2.19152664e-01,   2.23178929e-02,   7.61556730e-02, ...,\n",
       "          5.14729159e-02,   2.11738155e-02,   0.00000000e+00],\n",
       "       [  3.94171349e-02,   3.24744060e-03,   3.38270674e-02, ...,\n",
       "          1.84994414e-02,   0.00000000e+00,   8.76618050e-02],\n",
       "       [  0.00000000e+00,   0.00000000e+00,   7.88640095e-04, ...,\n",
       "          0.00000000e+00,   5.80464764e-02,   1.71419351e-01]])"
      ]
     },
     "execution_count": 64,
     "metadata": {},
     "output_type": "execute_result"
    }
   ],
   "source": [
    "item_predicted_ratings = np.dot((beer_features.fillna(0).T),item_correlation)\n",
    "item_predicted_ratings"
   ]
  },
  {
   "cell_type": "code",
   "execution_count": 65,
   "metadata": {},
   "outputs": [
    {
     "data": {
      "text/plain": [
       "(17729, 3057)"
      ]
     },
     "execution_count": 65,
     "metadata": {},
     "output_type": "execute_result"
    }
   ],
   "source": [
    "item_predicted_ratings.shape"
   ]
  },
  {
   "cell_type": "code",
   "execution_count": 66,
   "metadata": {},
   "outputs": [
    {
     "data": {
      "text/plain": [
       "(17729, 3057)"
      ]
     },
     "execution_count": 66,
     "metadata": {},
     "output_type": "execute_result"
    }
   ],
   "source": [
    "dummy_train.shape"
   ]
  },
  {
   "cell_type": "markdown",
   "metadata": {},
   "source": [
    "Filtering the rating only for the movies not rated by the user for recommendation"
   ]
  },
  {
   "cell_type": "code",
   "execution_count": 67,
   "metadata": {},
   "outputs": [
    {
     "data": {
      "text/html": [
       "<div>\n",
       "<style>\n",
       "    .dataframe thead tr:only-child th {\n",
       "        text-align: right;\n",
       "    }\n",
       "\n",
       "    .dataframe thead th {\n",
       "        text-align: left;\n",
       "    }\n",
       "\n",
       "    .dataframe tbody tr th {\n",
       "        vertical-align: top;\n",
       "    }\n",
       "</style>\n",
       "<table border=\"1\" class=\"dataframe\">\n",
       "  <thead>\n",
       "    <tr style=\"text-align: right;\">\n",
       "      <th>beer_beerid</th>\n",
       "      <th>5</th>\n",
       "      <th>6</th>\n",
       "      <th>7</th>\n",
       "      <th>9</th>\n",
       "      <th>10</th>\n",
       "      <th>14</th>\n",
       "      <th>15</th>\n",
       "      <th>17</th>\n",
       "      <th>19</th>\n",
       "      <th>23</th>\n",
       "      <th>...</th>\n",
       "      <th>74323</th>\n",
       "      <th>74390</th>\n",
       "      <th>74530</th>\n",
       "      <th>74548</th>\n",
       "      <th>74579</th>\n",
       "      <th>74827</th>\n",
       "      <th>74904</th>\n",
       "      <th>74986</th>\n",
       "      <th>75013</th>\n",
       "      <th>75086</th>\n",
       "    </tr>\n",
       "    <tr>\n",
       "      <th>review_profilename</th>\n",
       "      <th></th>\n",
       "      <th></th>\n",
       "      <th></th>\n",
       "      <th></th>\n",
       "      <th></th>\n",
       "      <th></th>\n",
       "      <th></th>\n",
       "      <th></th>\n",
       "      <th></th>\n",
       "      <th></th>\n",
       "      <th></th>\n",
       "      <th></th>\n",
       "      <th></th>\n",
       "      <th></th>\n",
       "      <th></th>\n",
       "      <th></th>\n",
       "      <th></th>\n",
       "      <th></th>\n",
       "      <th></th>\n",
       "      <th></th>\n",
       "      <th></th>\n",
       "    </tr>\n",
       "  </thead>\n",
       "  <tbody>\n",
       "    <tr>\n",
       "      <th>0110x011</th>\n",
       "      <td>0.338568</td>\n",
       "      <td>0.698818</td>\n",
       "      <td>0.459124</td>\n",
       "      <td>0.109667</td>\n",
       "      <td>0.367552</td>\n",
       "      <td>0.175331</td>\n",
       "      <td>1.209843</td>\n",
       "      <td>0.691215</td>\n",
       "      <td>0.293389</td>\n",
       "      <td>0.531643</td>\n",
       "      <td>...</td>\n",
       "      <td>0.117252</td>\n",
       "      <td>0.263181</td>\n",
       "      <td>1.149481</td>\n",
       "      <td>0.454821</td>\n",
       "      <td>0.385205</td>\n",
       "      <td>1.794794</td>\n",
       "      <td>0.614778</td>\n",
       "      <td>0.312086</td>\n",
       "      <td>2.421180</td>\n",
       "      <td>0.537265</td>\n",
       "    </tr>\n",
       "    <tr>\n",
       "      <th>01Ryan10</th>\n",
       "      <td>0.000000</td>\n",
       "      <td>0.000000</td>\n",
       "      <td>0.075765</td>\n",
       "      <td>0.000000</td>\n",
       "      <td>0.000000</td>\n",
       "      <td>0.000000</td>\n",
       "      <td>0.000000</td>\n",
       "      <td>0.090202</td>\n",
       "      <td>0.000000</td>\n",
       "      <td>0.000000</td>\n",
       "      <td>...</td>\n",
       "      <td>0.000000</td>\n",
       "      <td>0.071480</td>\n",
       "      <td>0.091317</td>\n",
       "      <td>0.000000</td>\n",
       "      <td>0.082587</td>\n",
       "      <td>0.000000</td>\n",
       "      <td>0.062849</td>\n",
       "      <td>0.120724</td>\n",
       "      <td>0.000000</td>\n",
       "      <td>0.030357</td>\n",
       "    </tr>\n",
       "    <tr>\n",
       "      <th>04101Brewer</th>\n",
       "      <td>0.000000</td>\n",
       "      <td>0.000000</td>\n",
       "      <td>0.057302</td>\n",
       "      <td>0.000000</td>\n",
       "      <td>0.000000</td>\n",
       "      <td>0.000000</td>\n",
       "      <td>0.000000</td>\n",
       "      <td>0.000000</td>\n",
       "      <td>0.000000</td>\n",
       "      <td>0.000000</td>\n",
       "      <td>...</td>\n",
       "      <td>0.000000</td>\n",
       "      <td>0.031733</td>\n",
       "      <td>0.000000</td>\n",
       "      <td>0.000000</td>\n",
       "      <td>0.065418</td>\n",
       "      <td>0.000000</td>\n",
       "      <td>0.000000</td>\n",
       "      <td>0.000000</td>\n",
       "      <td>0.000000</td>\n",
       "      <td>0.089968</td>\n",
       "    </tr>\n",
       "    <tr>\n",
       "      <th>05Harley</th>\n",
       "      <td>0.947156</td>\n",
       "      <td>0.543709</td>\n",
       "      <td>0.433473</td>\n",
       "      <td>0.117982</td>\n",
       "      <td>0.746104</td>\n",
       "      <td>0.633298</td>\n",
       "      <td>0.568725</td>\n",
       "      <td>0.193222</td>\n",
       "      <td>0.302507</td>\n",
       "      <td>0.720527</td>\n",
       "      <td>...</td>\n",
       "      <td>0.244007</td>\n",
       "      <td>0.087776</td>\n",
       "      <td>0.617453</td>\n",
       "      <td>0.482888</td>\n",
       "      <td>0.353483</td>\n",
       "      <td>0.178673</td>\n",
       "      <td>0.177107</td>\n",
       "      <td>0.294933</td>\n",
       "      <td>0.404263</td>\n",
       "      <td>0.444472</td>\n",
       "    </tr>\n",
       "    <tr>\n",
       "      <th>0beerguy0</th>\n",
       "      <td>0.016033</td>\n",
       "      <td>0.203955</td>\n",
       "      <td>0.000000</td>\n",
       "      <td>0.000000</td>\n",
       "      <td>0.175470</td>\n",
       "      <td>0.159572</td>\n",
       "      <td>0.118194</td>\n",
       "      <td>0.120046</td>\n",
       "      <td>0.024913</td>\n",
       "      <td>0.148054</td>\n",
       "      <td>...</td>\n",
       "      <td>0.000000</td>\n",
       "      <td>0.000000</td>\n",
       "      <td>0.000000</td>\n",
       "      <td>0.000000</td>\n",
       "      <td>0.000000</td>\n",
       "      <td>0.085848</td>\n",
       "      <td>0.000000</td>\n",
       "      <td>0.016904</td>\n",
       "      <td>0.000000</td>\n",
       "      <td>0.035055</td>\n",
       "    </tr>\n",
       "  </tbody>\n",
       "</table>\n",
       "<p>5 rows × 3057 columns</p>\n",
       "</div>"
      ],
      "text/plain": [
       "beer_beerid            5         6         7         9         10     \\\n",
       "review_profilename                                                     \n",
       "0110x011            0.338568  0.698818  0.459124  0.109667  0.367552   \n",
       "01Ryan10            0.000000  0.000000  0.075765  0.000000  0.000000   \n",
       "04101Brewer         0.000000  0.000000  0.057302  0.000000  0.000000   \n",
       "05Harley            0.947156  0.543709  0.433473  0.117982  0.746104   \n",
       "0beerguy0           0.016033  0.203955  0.000000  0.000000  0.175470   \n",
       "\n",
       "beer_beerid            14        15        17        19        23     \\\n",
       "review_profilename                                                     \n",
       "0110x011            0.175331  1.209843  0.691215  0.293389  0.531643   \n",
       "01Ryan10            0.000000  0.000000  0.090202  0.000000  0.000000   \n",
       "04101Brewer         0.000000  0.000000  0.000000  0.000000  0.000000   \n",
       "05Harley            0.633298  0.568725  0.193222  0.302507  0.720527   \n",
       "0beerguy0           0.159572  0.118194  0.120046  0.024913  0.148054   \n",
       "\n",
       "beer_beerid           ...        74323     74390     74530     74548  \\\n",
       "review_profilename    ...                                              \n",
       "0110x011              ...     0.117252  0.263181  1.149481  0.454821   \n",
       "01Ryan10              ...     0.000000  0.071480  0.091317  0.000000   \n",
       "04101Brewer           ...     0.000000  0.031733  0.000000  0.000000   \n",
       "05Harley              ...     0.244007  0.087776  0.617453  0.482888   \n",
       "0beerguy0             ...     0.000000  0.000000  0.000000  0.000000   \n",
       "\n",
       "beer_beerid            74579     74827     74904     74986     75013     75086  \n",
       "review_profilename                                                              \n",
       "0110x011            0.385205  1.794794  0.614778  0.312086  2.421180  0.537265  \n",
       "01Ryan10            0.082587  0.000000  0.062849  0.120724  0.000000  0.030357  \n",
       "04101Brewer         0.065418  0.000000  0.000000  0.000000  0.000000  0.089968  \n",
       "05Harley            0.353483  0.178673  0.177107  0.294933  0.404263  0.444472  \n",
       "0beerguy0           0.000000  0.085848  0.000000  0.016904  0.000000  0.035055  \n",
       "\n",
       "[5 rows x 3057 columns]"
      ]
     },
     "execution_count": 67,
     "metadata": {},
     "output_type": "execute_result"
    }
   ],
   "source": [
    "item_final_rating = np.multiply(item_predicted_ratings,dummy_train)\n",
    "item_final_rating.head()"
   ]
  },
  {
   "cell_type": "markdown",
   "metadata": {},
   "source": [
    "### Top 5 prediction for the user -1"
   ]
  },
  {
   "cell_type": "code",
   "execution_count": 68,
   "metadata": {},
   "outputs": [
    {
     "data": {
      "text/plain": [
       "beer_beerid\n",
       "53266    1.280122\n",
       "50241    0.815367\n",
       "65068    0.793119\n",
       "7200     0.668118\n",
       "45897    0.651751\n",
       "Name: 01Ryan10, dtype: float64"
      ]
     },
     "execution_count": 68,
     "metadata": {},
     "output_type": "execute_result"
    }
   ],
   "source": [
    "item_final_rating.iloc[1].sort_values(ascending=False)[0:5]"
   ]
  },
  {
   "cell_type": "markdown",
   "metadata": {},
   "source": [
    "### Evaluation\n",
    "\n",
    "Evaluation will we same as you have seen above for the prediction. The only difference being, you will evaluate for the beer already rated by the user insead of predicting it for the beer not rated by the user. "
   ]
  },
  {
   "cell_type": "markdown",
   "metadata": {},
   "source": [
    "### Using User Similarity"
   ]
  },
  {
   "cell_type": "code",
   "execution_count": 69,
   "metadata": {},
   "outputs": [
    {
     "name": "stdout",
     "output_type": "stream",
     "text": [
      "[[ 1.  0.  0. ...,  0.  0.  0.]\n",
      " [ 0.  1.  0. ...,  0.  0.  0.]\n",
      " [ 0.  0.  1. ...,  0.  0.  0.]\n",
      " ..., \n",
      " [ 0.  0.  0. ...,  1.  0.  0.]\n",
      " [ 0.  0.  0. ...,  0.  1.  0.]\n",
      " [ 0.  0.  0. ...,  0.  0.  1.]]\n"
     ]
    }
   ],
   "source": [
    "test_beer_features = test.pivot(\n",
    "    index='review_profilename',\n",
    "    columns='beer_beerid',\n",
    "    values='review_overall'\n",
    ")\n",
    "mean = np.nanmean(test_beer_features, axis=1)\n",
    "test_df_subtracted = (test_beer_features.T-mean).T\n",
    "\n",
    "# User Similarity Matrix\n",
    "test_user_correlation = 1 - pairwise_distances(test_df_subtracted.fillna(0), metric='cosine')\n",
    "test_user_correlation[np.isnan(test_user_correlation)] = 0\n",
    "print(test_user_correlation)"
   ]
  },
  {
   "cell_type": "code",
   "execution_count": 70,
   "metadata": {},
   "outputs": [
    {
     "data": {
      "text/plain": [
       "array([[ 0.18811075,  0.92558411,  0.19510264, ...,  0.45564859,\n",
       "         0.41207326,  0.        ],\n",
       "       [ 0.26403894,  2.52524902,  1.07239407, ...,  2.47886292,\n",
       "         0.88627767,  0.78246579],\n",
       "       [ 0.        ,  0.        ,  0.        , ...,  0.        ,\n",
       "         0.        ,  0.        ],\n",
       "       ..., \n",
       "       [ 0.57059954,  1.3577185 ,  0.89474562, ...,  0.40151144,\n",
       "         0.45360292,  0.26767429],\n",
       "       [ 0.        ,  0.        ,  0.        , ...,  0.        ,\n",
       "         0.        ,  0.        ],\n",
       "       [ 0.        ,  0.        ,  0.        , ...,  0.        ,\n",
       "         0.        ,  0.        ]])"
      ]
     },
     "execution_count": 70,
     "metadata": {},
     "output_type": "execute_result"
    }
   ],
   "source": [
    "test_user_correlation[test_user_correlation<0]=0\n",
    "test_user_predicted_ratings = np.dot(test_user_correlation, test_beer_features.fillna(0))\n",
    "test_user_predicted_ratings"
   ]
  },
  {
   "cell_type": "markdown",
   "metadata": {},
   "source": [
    "### Doing prediction for the beers rated by the user"
   ]
  },
  {
   "cell_type": "code",
   "execution_count": 71,
   "metadata": {
    "collapsed": true
   },
   "outputs": [],
   "source": [
    "test_user_final_rating = np.multiply(test_user_predicted_ratings,dummy_test)"
   ]
  },
  {
   "cell_type": "code",
   "execution_count": 72,
   "metadata": {},
   "outputs": [
    {
     "data": {
      "text/html": [
       "<div>\n",
       "<style>\n",
       "    .dataframe thead tr:only-child th {\n",
       "        text-align: right;\n",
       "    }\n",
       "\n",
       "    .dataframe thead th {\n",
       "        text-align: left;\n",
       "    }\n",
       "\n",
       "    .dataframe tbody tr th {\n",
       "        vertical-align: top;\n",
       "    }\n",
       "</style>\n",
       "<table border=\"1\" class=\"dataframe\">\n",
       "  <thead>\n",
       "    <tr style=\"text-align: right;\">\n",
       "      <th>beer_beerid</th>\n",
       "      <th>5</th>\n",
       "      <th>6</th>\n",
       "      <th>7</th>\n",
       "      <th>9</th>\n",
       "      <th>10</th>\n",
       "      <th>14</th>\n",
       "      <th>15</th>\n",
       "      <th>17</th>\n",
       "      <th>19</th>\n",
       "      <th>23</th>\n",
       "      <th>...</th>\n",
       "      <th>74323</th>\n",
       "      <th>74390</th>\n",
       "      <th>74530</th>\n",
       "      <th>74548</th>\n",
       "      <th>74579</th>\n",
       "      <th>74827</th>\n",
       "      <th>74904</th>\n",
       "      <th>74986</th>\n",
       "      <th>75013</th>\n",
       "      <th>75086</th>\n",
       "    </tr>\n",
       "    <tr>\n",
       "      <th>review_profilename</th>\n",
       "      <th></th>\n",
       "      <th></th>\n",
       "      <th></th>\n",
       "      <th></th>\n",
       "      <th></th>\n",
       "      <th></th>\n",
       "      <th></th>\n",
       "      <th></th>\n",
       "      <th></th>\n",
       "      <th></th>\n",
       "      <th></th>\n",
       "      <th></th>\n",
       "      <th></th>\n",
       "      <th></th>\n",
       "      <th></th>\n",
       "      <th></th>\n",
       "      <th></th>\n",
       "      <th></th>\n",
       "      <th></th>\n",
       "      <th></th>\n",
       "      <th></th>\n",
       "    </tr>\n",
       "  </thead>\n",
       "  <tbody>\n",
       "    <tr>\n",
       "      <th>0110x011</th>\n",
       "      <td>0.0</td>\n",
       "      <td>0.0</td>\n",
       "      <td>0.0</td>\n",
       "      <td>0.0</td>\n",
       "      <td>0.0</td>\n",
       "      <td>0.0</td>\n",
       "      <td>0.0</td>\n",
       "      <td>0.0</td>\n",
       "      <td>0.0</td>\n",
       "      <td>0.0</td>\n",
       "      <td>...</td>\n",
       "      <td>0.0</td>\n",
       "      <td>0.0</td>\n",
       "      <td>0.0</td>\n",
       "      <td>0.0</td>\n",
       "      <td>0.0</td>\n",
       "      <td>0.0</td>\n",
       "      <td>0.0</td>\n",
       "      <td>0.0</td>\n",
       "      <td>0.0</td>\n",
       "      <td>0.0</td>\n",
       "    </tr>\n",
       "    <tr>\n",
       "      <th>05Harley</th>\n",
       "      <td>0.0</td>\n",
       "      <td>0.0</td>\n",
       "      <td>0.0</td>\n",
       "      <td>0.0</td>\n",
       "      <td>0.0</td>\n",
       "      <td>0.0</td>\n",
       "      <td>0.0</td>\n",
       "      <td>0.0</td>\n",
       "      <td>0.0</td>\n",
       "      <td>0.0</td>\n",
       "      <td>...</td>\n",
       "      <td>0.0</td>\n",
       "      <td>0.0</td>\n",
       "      <td>0.0</td>\n",
       "      <td>0.0</td>\n",
       "      <td>0.0</td>\n",
       "      <td>0.0</td>\n",
       "      <td>0.0</td>\n",
       "      <td>0.0</td>\n",
       "      <td>0.0</td>\n",
       "      <td>0.0</td>\n",
       "    </tr>\n",
       "    <tr>\n",
       "      <th>0beerguy0</th>\n",
       "      <td>0.0</td>\n",
       "      <td>0.0</td>\n",
       "      <td>0.0</td>\n",
       "      <td>0.0</td>\n",
       "      <td>0.0</td>\n",
       "      <td>0.0</td>\n",
       "      <td>0.0</td>\n",
       "      <td>0.0</td>\n",
       "      <td>0.0</td>\n",
       "      <td>0.0</td>\n",
       "      <td>...</td>\n",
       "      <td>0.0</td>\n",
       "      <td>0.0</td>\n",
       "      <td>0.0</td>\n",
       "      <td>0.0</td>\n",
       "      <td>0.0</td>\n",
       "      <td>0.0</td>\n",
       "      <td>0.0</td>\n",
       "      <td>0.0</td>\n",
       "      <td>0.0</td>\n",
       "      <td>0.0</td>\n",
       "    </tr>\n",
       "    <tr>\n",
       "      <th>0runkp0s</th>\n",
       "      <td>0.0</td>\n",
       "      <td>0.0</td>\n",
       "      <td>0.0</td>\n",
       "      <td>0.0</td>\n",
       "      <td>0.0</td>\n",
       "      <td>0.0</td>\n",
       "      <td>0.0</td>\n",
       "      <td>0.0</td>\n",
       "      <td>0.0</td>\n",
       "      <td>0.0</td>\n",
       "      <td>...</td>\n",
       "      <td>0.0</td>\n",
       "      <td>0.0</td>\n",
       "      <td>0.0</td>\n",
       "      <td>0.0</td>\n",
       "      <td>0.0</td>\n",
       "      <td>0.0</td>\n",
       "      <td>0.0</td>\n",
       "      <td>0.0</td>\n",
       "      <td>0.0</td>\n",
       "      <td>0.0</td>\n",
       "    </tr>\n",
       "    <tr>\n",
       "      <th>0tt0</th>\n",
       "      <td>0.0</td>\n",
       "      <td>0.0</td>\n",
       "      <td>0.0</td>\n",
       "      <td>0.0</td>\n",
       "      <td>0.0</td>\n",
       "      <td>0.0</td>\n",
       "      <td>0.0</td>\n",
       "      <td>0.0</td>\n",
       "      <td>0.0</td>\n",
       "      <td>0.0</td>\n",
       "      <td>...</td>\n",
       "      <td>0.0</td>\n",
       "      <td>0.0</td>\n",
       "      <td>0.0</td>\n",
       "      <td>0.0</td>\n",
       "      <td>0.0</td>\n",
       "      <td>0.0</td>\n",
       "      <td>0.0</td>\n",
       "      <td>0.0</td>\n",
       "      <td>0.0</td>\n",
       "      <td>0.0</td>\n",
       "    </tr>\n",
       "  </tbody>\n",
       "</table>\n",
       "<p>5 rows × 3057 columns</p>\n",
       "</div>"
      ],
      "text/plain": [
       "beer_beerid         5      6      7      9      10     14     15     17     \\\n",
       "review_profilename                                                           \n",
       "0110x011              0.0    0.0    0.0    0.0    0.0    0.0    0.0    0.0   \n",
       "05Harley              0.0    0.0    0.0    0.0    0.0    0.0    0.0    0.0   \n",
       "0beerguy0             0.0    0.0    0.0    0.0    0.0    0.0    0.0    0.0   \n",
       "0runkp0s              0.0    0.0    0.0    0.0    0.0    0.0    0.0    0.0   \n",
       "0tt0                  0.0    0.0    0.0    0.0    0.0    0.0    0.0    0.0   \n",
       "\n",
       "beer_beerid         19     23     ...    74323  74390  74530  74548  74579  \\\n",
       "review_profilename                ...                                        \n",
       "0110x011              0.0    0.0  ...      0.0    0.0    0.0    0.0    0.0   \n",
       "05Harley              0.0    0.0  ...      0.0    0.0    0.0    0.0    0.0   \n",
       "0beerguy0             0.0    0.0  ...      0.0    0.0    0.0    0.0    0.0   \n",
       "0runkp0s              0.0    0.0  ...      0.0    0.0    0.0    0.0    0.0   \n",
       "0tt0                  0.0    0.0  ...      0.0    0.0    0.0    0.0    0.0   \n",
       "\n",
       "beer_beerid         74827  74904  74986  75013  75086  \n",
       "review_profilename                                     \n",
       "0110x011              0.0    0.0    0.0    0.0    0.0  \n",
       "05Harley              0.0    0.0    0.0    0.0    0.0  \n",
       "0beerguy0             0.0    0.0    0.0    0.0    0.0  \n",
       "0runkp0s              0.0    0.0    0.0    0.0    0.0  \n",
       "0tt0                  0.0    0.0    0.0    0.0    0.0  \n",
       "\n",
       "[5 rows x 3057 columns]"
      ]
     },
     "execution_count": 72,
     "metadata": {},
     "output_type": "execute_result"
    }
   ],
   "source": [
    "test_user_final_rating.head()"
   ]
  },
  {
   "cell_type": "markdown",
   "metadata": {},
   "source": [
    "## Evaluation"
   ]
  },
  {
   "cell_type": "markdown",
   "metadata": {},
   "source": [
    "### Calculating the RMSE for only the beers rated by user. For RMSE, normalising the rating to (1,5) range."
   ]
  },
  {
   "cell_type": "code",
   "execution_count": 73,
   "metadata": {},
   "outputs": [
    {
     "name": "stdout",
     "output_type": "stream",
     "text": [
      "MinMaxScaler(copy=True, feature_range=(1, 5))\n",
      "[[ 2.28984516  2.22842554  2.32853915 ...,  2.34362909  2.56988775\n",
      "   2.64136196]\n",
      " [ 2.28984516  2.22842554  2.32853915 ...,  2.34362909  2.56988775\n",
      "   2.64136196]\n",
      " [ 2.28984516  2.22842554  2.32853915 ...,  2.34362909  2.56988775\n",
      "   2.64136196]\n",
      " ..., \n",
      " [ 2.28984516  2.22842554  2.32853915 ...,  2.34362909  2.56988775\n",
      "   2.64136196]\n",
      " [ 2.28984516  2.22842554  2.32853915 ...,  2.34362909  2.56988775\n",
      "   2.64136196]\n",
      " [ 2.28984516  2.22842554  2.32853915 ...,  2.34362909  2.56988775\n",
      "   2.64136196]]\n"
     ]
    }
   ],
   "source": [
    "from sklearn.preprocessing import MinMaxScaler\n",
    "from numpy import *\n",
    "\n",
    "X  = test_user_final_rating.copy() \n",
    "X = X[X>0]\n",
    "\n",
    "scaler = MinMaxScaler(feature_range=(1, 5))\n",
    "X = X.fillna(X.mean())\n",
    "print(scaler.fit(X))\n",
    "y = (scaler.transform(X))\n",
    "\n",
    "print(y)"
   ]
  },
  {
   "cell_type": "code",
   "execution_count": 74,
   "metadata": {
    "collapsed": true
   },
   "outputs": [],
   "source": [
    "test_ = test.pivot(\n",
    "    index='review_profilename',\n",
    "    columns='beer_beerid',\n",
    "    values='review_overall'\n",
    ")"
   ]
  },
  {
   "cell_type": "code",
   "execution_count": 75,
   "metadata": {
    "collapsed": true
   },
   "outputs": [],
   "source": [
    "# Finding total non-NaN value\n",
    "total_non_nan = np.count_nonzero(~np.isnan(y))"
   ]
  },
  {
   "cell_type": "code",
   "execution_count": 76,
   "metadata": {},
   "outputs": [
    {
     "name": "stdout",
     "output_type": "stream",
     "text": [
      "0.09712621630763622\n"
     ]
    }
   ],
   "source": [
    "rmse = (sum(sum((test_ - y )**2))/total_non_nan)**0.5\n",
    "print(rmse)"
   ]
  },
  {
   "cell_type": "markdown",
   "metadata": {},
   "source": [
    "### Using Item similarity"
   ]
  },
  {
   "cell_type": "code",
   "execution_count": 77,
   "metadata": {
    "collapsed": true
   },
   "outputs": [],
   "source": [
    "test_beer_features = test.pivot(\n",
    "    index='review_profilename',\n",
    "    columns='beer_beerid',\n",
    "    values='review_overall'\n",
    ").T\n",
    "\n",
    "mean = np.nanmean(test_beer_features, axis=1)\n",
    "test_df_subtracted = (test_beer_features.T-mean).T\n",
    "\n",
    "test_item_correlation = 1 - pairwise_distances(test_df_subtracted.fillna(0), metric='cosine')\n",
    "test_item_correlation[np.isnan(test_item_correlation)] = 0\n",
    "test_item_correlation[test_item_correlation<0]=0"
   ]
  },
  {
   "cell_type": "code",
   "execution_count": 78,
   "metadata": {},
   "outputs": [
    {
     "data": {
      "text/plain": [
       "(3057, 3057)"
      ]
     },
     "execution_count": 78,
     "metadata": {},
     "output_type": "execute_result"
    }
   ],
   "source": [
    "test_item_correlation.shape"
   ]
  },
  {
   "cell_type": "code",
   "execution_count": 79,
   "metadata": {},
   "outputs": [
    {
     "data": {
      "text/plain": [
       "(3057, 12834)"
      ]
     },
     "execution_count": 79,
     "metadata": {},
     "output_type": "execute_result"
    }
   ],
   "source": [
    "test_beer_features.shape"
   ]
  },
  {
   "cell_type": "code",
   "execution_count": 80,
   "metadata": {},
   "outputs": [
    {
     "data": {
      "text/html": [
       "<div>\n",
       "<style>\n",
       "    .dataframe thead tr:only-child th {\n",
       "        text-align: right;\n",
       "    }\n",
       "\n",
       "    .dataframe thead th {\n",
       "        text-align: left;\n",
       "    }\n",
       "\n",
       "    .dataframe tbody tr th {\n",
       "        vertical-align: top;\n",
       "    }\n",
       "</style>\n",
       "<table border=\"1\" class=\"dataframe\">\n",
       "  <thead>\n",
       "    <tr style=\"text-align: right;\">\n",
       "      <th>beer_beerid</th>\n",
       "      <th>5</th>\n",
       "      <th>6</th>\n",
       "      <th>7</th>\n",
       "      <th>9</th>\n",
       "      <th>10</th>\n",
       "      <th>14</th>\n",
       "      <th>15</th>\n",
       "      <th>17</th>\n",
       "      <th>19</th>\n",
       "      <th>23</th>\n",
       "      <th>...</th>\n",
       "      <th>74323</th>\n",
       "      <th>74390</th>\n",
       "      <th>74530</th>\n",
       "      <th>74548</th>\n",
       "      <th>74579</th>\n",
       "      <th>74827</th>\n",
       "      <th>74904</th>\n",
       "      <th>74986</th>\n",
       "      <th>75013</th>\n",
       "      <th>75086</th>\n",
       "    </tr>\n",
       "    <tr>\n",
       "      <th>review_profilename</th>\n",
       "      <th></th>\n",
       "      <th></th>\n",
       "      <th></th>\n",
       "      <th></th>\n",
       "      <th></th>\n",
       "      <th></th>\n",
       "      <th></th>\n",
       "      <th></th>\n",
       "      <th></th>\n",
       "      <th></th>\n",
       "      <th></th>\n",
       "      <th></th>\n",
       "      <th></th>\n",
       "      <th></th>\n",
       "      <th></th>\n",
       "      <th></th>\n",
       "      <th></th>\n",
       "      <th></th>\n",
       "      <th></th>\n",
       "      <th></th>\n",
       "      <th></th>\n",
       "    </tr>\n",
       "  </thead>\n",
       "  <tbody>\n",
       "    <tr>\n",
       "      <th>0110x011</th>\n",
       "      <td>0.0</td>\n",
       "      <td>0.0</td>\n",
       "      <td>0.0</td>\n",
       "      <td>0.0</td>\n",
       "      <td>0.0</td>\n",
       "      <td>0.0</td>\n",
       "      <td>0.0</td>\n",
       "      <td>0.0</td>\n",
       "      <td>0.0</td>\n",
       "      <td>0.0</td>\n",
       "      <td>...</td>\n",
       "      <td>0.0</td>\n",
       "      <td>0.0</td>\n",
       "      <td>0.0</td>\n",
       "      <td>0.0</td>\n",
       "      <td>0.0</td>\n",
       "      <td>0.0</td>\n",
       "      <td>0.0</td>\n",
       "      <td>0.0</td>\n",
       "      <td>0.0</td>\n",
       "      <td>0.0</td>\n",
       "    </tr>\n",
       "    <tr>\n",
       "      <th>05Harley</th>\n",
       "      <td>0.0</td>\n",
       "      <td>0.0</td>\n",
       "      <td>0.0</td>\n",
       "      <td>0.0</td>\n",
       "      <td>0.0</td>\n",
       "      <td>0.0</td>\n",
       "      <td>0.0</td>\n",
       "      <td>0.0</td>\n",
       "      <td>0.0</td>\n",
       "      <td>0.0</td>\n",
       "      <td>...</td>\n",
       "      <td>0.0</td>\n",
       "      <td>0.0</td>\n",
       "      <td>0.0</td>\n",
       "      <td>0.0</td>\n",
       "      <td>0.0</td>\n",
       "      <td>0.0</td>\n",
       "      <td>0.0</td>\n",
       "      <td>0.0</td>\n",
       "      <td>0.0</td>\n",
       "      <td>0.0</td>\n",
       "    </tr>\n",
       "    <tr>\n",
       "      <th>0beerguy0</th>\n",
       "      <td>0.0</td>\n",
       "      <td>0.0</td>\n",
       "      <td>0.0</td>\n",
       "      <td>0.0</td>\n",
       "      <td>0.0</td>\n",
       "      <td>0.0</td>\n",
       "      <td>0.0</td>\n",
       "      <td>0.0</td>\n",
       "      <td>0.0</td>\n",
       "      <td>0.0</td>\n",
       "      <td>...</td>\n",
       "      <td>0.0</td>\n",
       "      <td>0.0</td>\n",
       "      <td>0.0</td>\n",
       "      <td>0.0</td>\n",
       "      <td>0.0</td>\n",
       "      <td>0.0</td>\n",
       "      <td>0.0</td>\n",
       "      <td>0.0</td>\n",
       "      <td>0.0</td>\n",
       "      <td>0.0</td>\n",
       "    </tr>\n",
       "    <tr>\n",
       "      <th>0runkp0s</th>\n",
       "      <td>0.0</td>\n",
       "      <td>0.0</td>\n",
       "      <td>0.0</td>\n",
       "      <td>0.0</td>\n",
       "      <td>0.0</td>\n",
       "      <td>0.0</td>\n",
       "      <td>0.0</td>\n",
       "      <td>0.0</td>\n",
       "      <td>0.0</td>\n",
       "      <td>0.0</td>\n",
       "      <td>...</td>\n",
       "      <td>0.0</td>\n",
       "      <td>0.0</td>\n",
       "      <td>0.0</td>\n",
       "      <td>0.0</td>\n",
       "      <td>0.0</td>\n",
       "      <td>0.0</td>\n",
       "      <td>0.0</td>\n",
       "      <td>0.0</td>\n",
       "      <td>0.0</td>\n",
       "      <td>0.0</td>\n",
       "    </tr>\n",
       "    <tr>\n",
       "      <th>0tt0</th>\n",
       "      <td>0.0</td>\n",
       "      <td>0.0</td>\n",
       "      <td>0.0</td>\n",
       "      <td>0.0</td>\n",
       "      <td>0.0</td>\n",
       "      <td>0.0</td>\n",
       "      <td>0.0</td>\n",
       "      <td>0.0</td>\n",
       "      <td>0.0</td>\n",
       "      <td>0.0</td>\n",
       "      <td>...</td>\n",
       "      <td>0.0</td>\n",
       "      <td>0.0</td>\n",
       "      <td>0.0</td>\n",
       "      <td>0.0</td>\n",
       "      <td>0.0</td>\n",
       "      <td>0.0</td>\n",
       "      <td>0.0</td>\n",
       "      <td>0.0</td>\n",
       "      <td>0.0</td>\n",
       "      <td>0.0</td>\n",
       "    </tr>\n",
       "  </tbody>\n",
       "</table>\n",
       "<p>5 rows × 3057 columns</p>\n",
       "</div>"
      ],
      "text/plain": [
       "beer_beerid         5      6      7      9      10     14     15     17     \\\n",
       "review_profilename                                                           \n",
       "0110x011              0.0    0.0    0.0    0.0    0.0    0.0    0.0    0.0   \n",
       "05Harley              0.0    0.0    0.0    0.0    0.0    0.0    0.0    0.0   \n",
       "0beerguy0             0.0    0.0    0.0    0.0    0.0    0.0    0.0    0.0   \n",
       "0runkp0s              0.0    0.0    0.0    0.0    0.0    0.0    0.0    0.0   \n",
       "0tt0                  0.0    0.0    0.0    0.0    0.0    0.0    0.0    0.0   \n",
       "\n",
       "beer_beerid         19     23     ...    74323  74390  74530  74548  74579  \\\n",
       "review_profilename                ...                                        \n",
       "0110x011              0.0    0.0  ...      0.0    0.0    0.0    0.0    0.0   \n",
       "05Harley              0.0    0.0  ...      0.0    0.0    0.0    0.0    0.0   \n",
       "0beerguy0             0.0    0.0  ...      0.0    0.0    0.0    0.0    0.0   \n",
       "0runkp0s              0.0    0.0  ...      0.0    0.0    0.0    0.0    0.0   \n",
       "0tt0                  0.0    0.0  ...      0.0    0.0    0.0    0.0    0.0   \n",
       "\n",
       "beer_beerid         74827  74904  74986  75013  75086  \n",
       "review_profilename                                     \n",
       "0110x011              0.0    0.0    0.0    0.0    0.0  \n",
       "05Harley              0.0    0.0    0.0    0.0    0.0  \n",
       "0beerguy0             0.0    0.0    0.0    0.0    0.0  \n",
       "0runkp0s              0.0    0.0    0.0    0.0    0.0  \n",
       "0tt0                  0.0    0.0    0.0    0.0    0.0  \n",
       "\n",
       "[5 rows x 3057 columns]"
      ]
     },
     "execution_count": 80,
     "metadata": {},
     "output_type": "execute_result"
    }
   ],
   "source": [
    "test_item_predicted_ratings = (np.dot(test_item_correlation, test_beer_features.fillna(0))).T\n",
    "test_item_final_rating = np.multiply(test_item_predicted_ratings,dummy_test)\n",
    "test_item_final_rating.head()"
   ]
  },
  {
   "cell_type": "code",
   "execution_count": 81,
   "metadata": {
    "collapsed": true
   },
   "outputs": [],
   "source": [
    "test_ = test.pivot(\n",
    "   index='review_profilename',\n",
    "    columns='beer_beerid',\n",
    "    values='review_overall'\n",
    ")"
   ]
  },
  {
   "cell_type": "code",
   "execution_count": 82,
   "metadata": {},
   "outputs": [
    {
     "name": "stdout",
     "output_type": "stream",
     "text": [
      "MinMaxScaler(copy=True, feature_range=(1, 5))\n"
     ]
    }
   ],
   "source": [
    "from sklearn.preprocessing import MinMaxScaler\n",
    "from numpy import *\n",
    "\n",
    "X  = test_item_final_rating.copy() \n",
    "X = X[X>0]\n",
    "\n",
    "scaler = MinMaxScaler(feature_range=(1, 5))\n",
    "X = X.fillna(X.mean())\n",
    "print(scaler.fit(X))\n",
    "y = (scaler.transform(X))\n",
    "\n",
    "\n",
    "test_ = test.pivot(\n",
    "    index='review_profilename',\n",
    "    columns='beer_beerid',\n",
    "    values='review_overall'\n",
    ")\n",
    "\n",
    "# Finding total non-NaN value\n",
    "total_non_nan = np.count_nonzero(~np.isnan(y))"
   ]
  },
  {
   "cell_type": "markdown",
   "metadata": {},
   "source": [
    "### Finding RMSE"
   ]
  },
  {
   "cell_type": "code",
   "execution_count": 83,
   "metadata": {},
   "outputs": [
    {
     "name": "stdout",
     "output_type": "stream",
     "text": [
      "0.10451621741560646\n"
     ]
    }
   ],
   "source": [
    "rmse = (sum(sum((test_ - y )**2))/total_non_nan)**0.5\n",
    "print(rmse)"
   ]
  },
  {
   "cell_type": "markdown",
   "metadata": {},
   "source": [
    "### Lower values of RMSE indicate better fit and User based collaborative filtered recommendation model shows low RMSE value, which is 0.097 \n",
    "### RMSE value for item based collaborative recommendation model has is 0.104\n",
    "### Therefore we will go ahead with User based collaborative recommendation model"
   ]
  },
  {
   "cell_type": "markdown",
   "metadata": {},
   "source": [
    "## The top 5 beers that you would recommend to the users 'cokes', 'genog' and 'giblet' using both the models."
   ]
  },
  {
   "cell_type": "markdown",
   "metadata": {},
   "source": [
    "### Using User based filtering model"
   ]
  },
  {
   "cell_type": "code",
   "execution_count": 89,
   "metadata": {},
   "outputs": [
    {
     "data": {
      "text/plain": [
       "beer_beerid\n",
       "1545     16.238766\n",
       "1118     15.767950\n",
       "35625    14.343212\n",
       "6368     13.005603\n",
       "15813    10.341048\n",
       "Name: cokes, dtype: float64"
      ]
     },
     "execution_count": 89,
     "metadata": {},
     "output_type": "execute_result"
    }
   ],
   "source": [
    "# 'cokes'\n",
    "test_user_final_rating.loc['cokes'].sort_values(ascending=False)[0:5]"
   ]
  },
  {
   "cell_type": "code",
   "execution_count": 90,
   "metadata": {},
   "outputs": [
    {
     "data": {
      "text/plain": [
       "beer_beerid\n",
       "9478     42.431462\n",
       "1094     21.696939\n",
       "33127    18.983776\n",
       "15813    17.929614\n",
       "29015    16.164034\n",
       "Name: genog, dtype: float64"
      ]
     },
     "execution_count": 90,
     "metadata": {},
     "output_type": "execute_result"
    }
   ],
   "source": [
    "# 'genog'\n",
    "test_user_final_rating.loc['genog'].sort_values(ascending=False)[0:5]"
   ]
  },
  {
   "cell_type": "code",
   "execution_count": 91,
   "metadata": {},
   "outputs": [
    {
     "data": {
      "text/plain": [
       "beer_beerid\n",
       "1320     43.391834\n",
       "645      42.785708\n",
       "129      33.873715\n",
       "17112    33.533413\n",
       "276      21.665616\n",
       "Name: giblet, dtype: float64"
      ]
     },
     "execution_count": 91,
     "metadata": {},
     "output_type": "execute_result"
    }
   ],
   "source": [
    "# 'giblet'\n",
    "test_user_final_rating.loc['giblet'].sort_values(ascending=False)[0:5]"
   ]
  },
  {
   "cell_type": "markdown",
   "metadata": {},
   "source": [
    "### Using Item based filtering model"
   ]
  },
  {
   "cell_type": "code",
   "execution_count": 93,
   "metadata": {},
   "outputs": [
    {
     "data": {
      "text/plain": [
       "beer_beerid\n",
       "17770    30.164537\n",
       "8422     29.049941\n",
       "4607     27.030487\n",
       "20717    26.391925\n",
       "27116    23.950049\n",
       "Name: cokes, dtype: float64"
      ]
     },
     "execution_count": 93,
     "metadata": {},
     "output_type": "execute_result"
    }
   ],
   "source": [
    "# 'cokes'\n",
    "test_item_final_rating.loc['cokes'].sort_values(ascending=False)[0:5]"
   ]
  },
  {
   "cell_type": "code",
   "execution_count": 94,
   "metadata": {},
   "outputs": [
    {
     "data": {
      "text/plain": [
       "beer_beerid\n",
       "2010     6.444240\n",
       "9478     6.298468\n",
       "2729     5.665508\n",
       "33127    5.402530\n",
       "8297     5.260613\n",
       "Name: genog, dtype: float64"
      ]
     },
     "execution_count": 94,
     "metadata": {},
     "output_type": "execute_result"
    }
   ],
   "source": [
    "# 'genog'\n",
    "test_item_final_rating.loc['genog'].sort_values(ascending=False)[0:5]"
   ]
  },
  {
   "cell_type": "code",
   "execution_count": 95,
   "metadata": {},
   "outputs": [
    {
     "data": {
      "text/plain": [
       "beer_beerid\n",
       "39043    7.054406\n",
       "3062     5.767185\n",
       "19425    5.759415\n",
       "56613    5.528786\n",
       "30       5.441708\n",
       "Name: giblet, dtype: float64"
      ]
     },
     "execution_count": 95,
     "metadata": {},
     "output_type": "execute_result"
    }
   ],
   "source": [
    "# 'giblet'\n",
    "test_item_final_rating.loc['giblet'].sort_values(ascending=False)[0:5]"
   ]
  }
 ],
 "metadata": {
  "kernelspec": {
   "display_name": "Python 3",
   "language": "python",
   "name": "python3"
  },
  "language_info": {
   "codemirror_mode": {
    "name": "ipython",
    "version": 3
   },
   "file_extension": ".py",
   "mimetype": "text/x-python",
   "name": "python",
   "nbconvert_exporter": "python",
   "pygments_lexer": "ipython3",
   "version": "3.6.3"
  }
 },
 "nbformat": 4,
 "nbformat_minor": 2
}
